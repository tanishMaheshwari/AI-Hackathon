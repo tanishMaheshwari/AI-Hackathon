{
 "cells": [
  {
   "cell_type": "code",
   "execution_count": 1,
   "id": "ca0db7d8",
   "metadata": {
    "_cell_guid": "b1076dfc-b9ad-4769-8c92-a6c4dae69d19",
    "_uuid": "8f2839f25d086af736a60e9eeb907d3b93b6e0e5",
    "papermill": {
     "duration": 0.064517,
     "end_time": "2024-03-12T11:19:05.358958",
     "exception": false,
     "start_time": "2024-03-12T11:19:05.294441",
     "status": "completed"
    },
    "tags": []
   },
   "outputs": [
    {
     "name": "stdout",
     "output_type": "stream",
     "text": [
      "./bigmart-sale-train-csv-notebook.ipynb\n",
      "./sample_submission.csv\n",
      "./test.csv\n",
      "./train.csv\n",
      "./.ipynb_checkpoints/bigmart-sale-train-csv-notebook-checkpoint.ipynb\n"
     ]
    }
   ],
   "source": [
    "import os\n",
    "for dirname, _, filenames in os.walk('./'):\n",
    "      for filename in filenames:\n",
    "        print(os.path.join(dirname, filename))"
   ]
  },
  {
   "cell_type": "code",
   "execution_count": 3,
   "id": "1d7023d0-437b-49ce-b019-32e0608361b7",
   "metadata": {},
   "outputs": [
    {
     "name": "stdout",
     "output_type": "stream",
     "text": [
      "Collecting xgboost\n",
      "  Downloading xgboost-2.1.1-py3-none-manylinux_2_28_x86_64.whl.metadata (2.1 kB)\n",
      "Requirement already satisfied: numpy in /home/tanish/anaconda3/envs/py310/lib/python3.10/site-packages (from xgboost) (1.26.4)\n",
      "Requirement already satisfied: nvidia-nccl-cu12 in /home/tanish/anaconda3/envs/py310/lib/python3.10/site-packages (from xgboost) (2.19.3)\n",
      "Requirement already satisfied: scipy in /home/tanish/anaconda3/envs/py310/lib/python3.10/site-packages (from xgboost) (1.14.1)\n",
      "Downloading xgboost-2.1.1-py3-none-manylinux_2_28_x86_64.whl (153.9 MB)\n",
      "\u001b[2K   \u001b[90m━━━━━━━━━━━━━━━━━━━━━━━━━━━━━━━━━━━━━━━━\u001b[0m \u001b[32m153.9/153.9 MB\u001b[0m \u001b[31m1.8 MB/s\u001b[0m eta \u001b[36m0:00:00\u001b[0m00:01\u001b[0m00:03\u001b[0mm\n",
      "\u001b[?25hInstalling collected packages: xgboost\n",
      "Successfully installed xgboost-2.1.1\n"
     ]
    }
   ],
   "source": [
    "!pip install xgboost"
   ]
  },
  {
   "cell_type": "code",
   "execution_count": 4,
   "id": "773705e8",
   "metadata": {
    "papermill": {
     "duration": 3.773726,
     "end_time": "2024-03-12T11:19:09.161006",
     "exception": false,
     "start_time": "2024-03-12T11:19:05.387280",
     "status": "completed"
    },
    "tags": []
   },
   "outputs": [],
   "source": [
    "#importing all the dependecies needed\n",
    "import numpy as np\n",
    "import pandas as pd\n",
    "import matplotlib.pyplot as plt\n",
    "import seaborn as sns\n",
    "from sklearn.model_selection import train_test_split\n",
    "from sklearn.preprocessing import LabelEncoder\n",
    "from xgboost import XGBRegressor\n",
    "from sklearn import metrics\n",
    "from sklearn.metrics import mean_absolute_error\n",
    "import datetime as dt"
   ]
  },
  {
   "cell_type": "code",
   "execution_count": 5,
   "id": "2cab2f70",
   "metadata": {
    "papermill": {
     "duration": 0.08306,
     "end_time": "2024-03-12T11:19:09.267963",
     "exception": false,
     "start_time": "2024-03-12T11:19:09.184903",
     "status": "completed"
    },
    "tags": []
   },
   "outputs": [],
   "source": [
    "#we are going with the train_csv so we import the dataset\n",
    "bigmart_df = pd.read_csv(\"./train.csv\")"
   ]
  },
  {
   "cell_type": "code",
   "execution_count": 6,
   "id": "468dac6e",
   "metadata": {
    "papermill": {
     "duration": 0.060407,
     "end_time": "2024-03-12T11:19:09.352619",
     "exception": false,
     "start_time": "2024-03-12T11:19:09.292212",
     "status": "completed"
    },
    "tags": []
   },
   "outputs": [
    {
     "data": {
      "text/html": [
       "<div>\n",
       "<style scoped>\n",
       "    .dataframe tbody tr th:only-of-type {\n",
       "        vertical-align: middle;\n",
       "    }\n",
       "\n",
       "    .dataframe tbody tr th {\n",
       "        vertical-align: top;\n",
       "    }\n",
       "\n",
       "    .dataframe thead th {\n",
       "        text-align: right;\n",
       "    }\n",
       "</style>\n",
       "<table border=\"1\" class=\"dataframe\">\n",
       "  <thead>\n",
       "    <tr style=\"text-align: right;\">\n",
       "      <th></th>\n",
       "      <th>Item_Identifier</th>\n",
       "      <th>Item_Weight</th>\n",
       "      <th>Item_Fat_Content</th>\n",
       "      <th>Item_Visibility</th>\n",
       "      <th>Item_Type</th>\n",
       "      <th>Item_MRP</th>\n",
       "      <th>Outlet_Identifier</th>\n",
       "      <th>Outlet_Establishment_Year</th>\n",
       "      <th>Outlet_Size</th>\n",
       "      <th>Outlet_Location_Type</th>\n",
       "      <th>Outlet_Type</th>\n",
       "      <th>Item_Outlet_Sales</th>\n",
       "    </tr>\n",
       "  </thead>\n",
       "  <tbody>\n",
       "    <tr>\n",
       "      <th>0</th>\n",
       "      <td>FDA15</td>\n",
       "      <td>9.30</td>\n",
       "      <td>Low Fat</td>\n",
       "      <td>0.016047</td>\n",
       "      <td>Dairy</td>\n",
       "      <td>249.8092</td>\n",
       "      <td>OUT049</td>\n",
       "      <td>1999</td>\n",
       "      <td>Medium</td>\n",
       "      <td>Tier 1</td>\n",
       "      <td>Supermarket Type1</td>\n",
       "      <td>3735.1380</td>\n",
       "    </tr>\n",
       "    <tr>\n",
       "      <th>1</th>\n",
       "      <td>DRC01</td>\n",
       "      <td>5.92</td>\n",
       "      <td>Regular</td>\n",
       "      <td>0.019278</td>\n",
       "      <td>Soft Drinks</td>\n",
       "      <td>48.2692</td>\n",
       "      <td>OUT018</td>\n",
       "      <td>2009</td>\n",
       "      <td>Medium</td>\n",
       "      <td>Tier 3</td>\n",
       "      <td>Supermarket Type2</td>\n",
       "      <td>443.4228</td>\n",
       "    </tr>\n",
       "    <tr>\n",
       "      <th>2</th>\n",
       "      <td>FDN15</td>\n",
       "      <td>17.50</td>\n",
       "      <td>Low Fat</td>\n",
       "      <td>0.016760</td>\n",
       "      <td>Meat</td>\n",
       "      <td>141.6180</td>\n",
       "      <td>OUT049</td>\n",
       "      <td>1999</td>\n",
       "      <td>Medium</td>\n",
       "      <td>Tier 1</td>\n",
       "      <td>Supermarket Type1</td>\n",
       "      <td>2097.2700</td>\n",
       "    </tr>\n",
       "    <tr>\n",
       "      <th>3</th>\n",
       "      <td>FDX07</td>\n",
       "      <td>19.20</td>\n",
       "      <td>Regular</td>\n",
       "      <td>0.000000</td>\n",
       "      <td>Fruits and Vegetables</td>\n",
       "      <td>182.0950</td>\n",
       "      <td>OUT010</td>\n",
       "      <td>1998</td>\n",
       "      <td>NaN</td>\n",
       "      <td>Tier 3</td>\n",
       "      <td>Grocery Store</td>\n",
       "      <td>732.3800</td>\n",
       "    </tr>\n",
       "    <tr>\n",
       "      <th>4</th>\n",
       "      <td>NCD19</td>\n",
       "      <td>8.93</td>\n",
       "      <td>Low Fat</td>\n",
       "      <td>0.000000</td>\n",
       "      <td>Household</td>\n",
       "      <td>53.8614</td>\n",
       "      <td>OUT013</td>\n",
       "      <td>1987</td>\n",
       "      <td>High</td>\n",
       "      <td>Tier 3</td>\n",
       "      <td>Supermarket Type1</td>\n",
       "      <td>994.7052</td>\n",
       "    </tr>\n",
       "  </tbody>\n",
       "</table>\n",
       "</div>"
      ],
      "text/plain": [
       "  Item_Identifier  Item_Weight Item_Fat_Content  Item_Visibility  \\\n",
       "0           FDA15         9.30          Low Fat         0.016047   \n",
       "1           DRC01         5.92          Regular         0.019278   \n",
       "2           FDN15        17.50          Low Fat         0.016760   \n",
       "3           FDX07        19.20          Regular         0.000000   \n",
       "4           NCD19         8.93          Low Fat         0.000000   \n",
       "\n",
       "               Item_Type  Item_MRP Outlet_Identifier  \\\n",
       "0                  Dairy  249.8092            OUT049   \n",
       "1            Soft Drinks   48.2692            OUT018   \n",
       "2                   Meat  141.6180            OUT049   \n",
       "3  Fruits and Vegetables  182.0950            OUT010   \n",
       "4              Household   53.8614            OUT013   \n",
       "\n",
       "   Outlet_Establishment_Year Outlet_Size Outlet_Location_Type  \\\n",
       "0                       1999      Medium               Tier 1   \n",
       "1                       2009      Medium               Tier 3   \n",
       "2                       1999      Medium               Tier 1   \n",
       "3                       1998         NaN               Tier 3   \n",
       "4                       1987        High               Tier 3   \n",
       "\n",
       "         Outlet_Type  Item_Outlet_Sales  \n",
       "0  Supermarket Type1          3735.1380  \n",
       "1  Supermarket Type2           443.4228  \n",
       "2  Supermarket Type1          2097.2700  \n",
       "3      Grocery Store           732.3800  \n",
       "4  Supermarket Type1           994.7052  "
      ]
     },
     "execution_count": 6,
     "metadata": {},
     "output_type": "execute_result"
    }
   ],
   "source": [
    "#checking for the first five dataset\n",
    "bigmart_df.head()"
   ]
  },
  {
   "cell_type": "code",
   "execution_count": 7,
   "id": "cf48e59e",
   "metadata": {
    "papermill": {
     "duration": 0.065848,
     "end_time": "2024-03-12T11:19:09.444584",
     "exception": false,
     "start_time": "2024-03-12T11:19:09.378736",
     "status": "completed"
    },
    "tags": []
   },
   "outputs": [
    {
     "name": "stdout",
     "output_type": "stream",
     "text": [
      "<class 'pandas.core.frame.DataFrame'>\n",
      "RangeIndex: 8523 entries, 0 to 8522\n",
      "Data columns (total 12 columns):\n",
      " #   Column                     Non-Null Count  Dtype  \n",
      "---  ------                     --------------  -----  \n",
      " 0   Item_Identifier            8523 non-null   object \n",
      " 1   Item_Weight                7060 non-null   float64\n",
      " 2   Item_Fat_Content           8523 non-null   object \n",
      " 3   Item_Visibility            8523 non-null   float64\n",
      " 4   Item_Type                  8523 non-null   object \n",
      " 5   Item_MRP                   8523 non-null   float64\n",
      " 6   Outlet_Identifier          8523 non-null   object \n",
      " 7   Outlet_Establishment_Year  8523 non-null   int64  \n",
      " 8   Outlet_Size                6113 non-null   object \n",
      " 9   Outlet_Location_Type       8523 non-null   object \n",
      " 10  Outlet_Type                8523 non-null   object \n",
      " 11  Item_Outlet_Sales          8523 non-null   float64\n",
      "dtypes: float64(4), int64(1), object(7)\n",
      "memory usage: 799.2+ KB\n"
     ]
    }
   ],
   "source": [
    "#checking informations of the dataset\n",
    "bigmart_df.info()"
   ]
  },
  {
   "cell_type": "code",
   "execution_count": 8,
   "id": "3c4a78dc",
   "metadata": {
    "papermill": {
     "duration": 0.050506,
     "end_time": "2024-03-12T11:19:09.518509",
     "exception": false,
     "start_time": "2024-03-12T11:19:09.468003",
     "status": "completed"
    },
    "tags": []
   },
   "outputs": [
    {
     "data": {
      "text/plain": [
       "False"
      ]
     },
     "execution_count": 8,
     "metadata": {},
     "output_type": "execute_result"
    }
   ],
   "source": [
    "#to check if there is any duplicated rows\n",
    "bigmart_df.duplicated().any()"
   ]
  },
  {
   "cell_type": "code",
   "execution_count": 9,
   "id": "3f16c52b",
   "metadata": {
    "papermill": {
     "duration": 0.048787,
     "end_time": "2024-03-12T11:19:09.590286",
     "exception": false,
     "start_time": "2024-03-12T11:19:09.541499",
     "status": "completed"
    },
    "tags": []
   },
   "outputs": [
    {
     "data": {
      "text/plain": [
       "Item_Identifier                 0\n",
       "Item_Weight                  1463\n",
       "Item_Fat_Content                0\n",
       "Item_Visibility                 0\n",
       "Item_Type                       0\n",
       "Item_MRP                        0\n",
       "Outlet_Identifier               0\n",
       "Outlet_Establishment_Year       0\n",
       "Outlet_Size                  2410\n",
       "Outlet_Location_Type            0\n",
       "Outlet_Type                     0\n",
       "Item_Outlet_Sales               0\n",
       "dtype: int64"
      ]
     },
     "execution_count": 9,
     "metadata": {},
     "output_type": "execute_result"
    }
   ],
   "source": [
    "#checking for any missing value\n",
    "bigmart_df.isnull().sum()"
   ]
  },
  {
   "cell_type": "markdown",
   "id": "447f006e",
   "metadata": {
    "papermill": {
     "duration": 0.023062,
     "end_time": "2024-03-12T11:19:09.639695",
     "exception": false,
     "start_time": "2024-03-12T11:19:09.616633",
     "status": "completed"
    },
    "tags": []
   },
   "source": [
    "we have two columns with missing values\n"
   ]
  },
  {
   "cell_type": "markdown",
   "id": "0d1deff3",
   "metadata": {
    "papermill": {
     "duration": 0.024945,
     "end_time": "2024-03-12T11:19:09.687730",
     "exception": false,
     "start_time": "2024-03-12T11:19:09.662785",
     "status": "completed"
    },
    "tags": []
   },
   "source": [
    "DATA CLEANING\n"
   ]
  },
  {
   "cell_type": "code",
   "execution_count": 10,
   "id": "76997060",
   "metadata": {
    "papermill": {
     "duration": 0.046469,
     "end_time": "2024-03-12T11:19:09.760391",
     "exception": false,
     "start_time": "2024-03-12T11:19:09.713922",
     "status": "completed"
    },
    "tags": []
   },
   "outputs": [
    {
     "name": "stdout",
     "output_type": "stream",
     "text": [
      "Item_Identifier               0.000000\n",
      "Item_Weight                  17.165317\n",
      "Item_Fat_Content              0.000000\n",
      "Item_Visibility               0.000000\n",
      "Item_Type                     0.000000\n",
      "Item_MRP                      0.000000\n",
      "Outlet_Identifier             0.000000\n",
      "Outlet_Establishment_Year     0.000000\n",
      "Outlet_Size                  28.276428\n",
      "Outlet_Location_Type          0.000000\n",
      "Outlet_Type                   0.000000\n",
      "Item_Outlet_Sales             0.000000\n",
      "dtype: float64\n"
     ]
    }
   ],
   "source": [
    "#if the missing value are less than 5% we can drop the rows of the missing values\n",
    "#to calculate the percentage of the values missing\n",
    "per = bigmart_df.isnull().sum() * 100/len(bigmart_df)\n",
    "print(per)"
   ]
  },
  {
   "cell_type": "markdown",
   "id": "f04778bc",
   "metadata": {
    "papermill": {
     "duration": 0.028533,
     "end_time": "2024-03-12T11:19:09.813264",
     "exception": false,
     "start_time": "2024-03-12T11:19:09.784731",
     "status": "completed"
    },
    "tags": []
   },
   "source": [
    "Both columns have over 5% of missing data so we will find the best way to fill the missing values without altering our original dataset.\n",
    "\n",
    "They are two major technics in filling missing values\n",
    "UNIVARIATE which include( mean, median,mode, interpolation, constant value) and BIVARIATE which include( regression, k-nearest neighbors,etc."
   ]
  },
  {
   "cell_type": "code",
   "execution_count": 11,
   "id": "2a857632",
   "metadata": {
    "papermill": {
     "duration": 0.044456,
     "end_time": "2024-03-12T11:19:09.884185",
     "exception": false,
     "start_time": "2024-03-12T11:19:09.839729",
     "status": "completed"
    },
    "tags": []
   },
   "outputs": [],
   "source": [
    "#Trying out different methods to know which one fills the missing values the best without altering our original dataset\n",
    "bigmart_df[\"Item_Weight_mean\"] =bigmart_df[\"Item_Weight\"].fillna(bigmart_df[\"Item_Weight\"].mean())\n",
    "\n",
    "bigmart_df[\"Item_Weight_median\"] =bigmart_df[\"Item_Weight\"].fillna(bigmart_df[\"Item_Weight\"].median())"
   ]
  },
  {
   "cell_type": "code",
   "execution_count": 12,
   "id": "40a50f5b",
   "metadata": {
    "papermill": {
     "duration": 0.037531,
     "end_time": "2024-03-12T11:19:09.948212",
     "exception": false,
     "start_time": "2024-03-12T11:19:09.910681",
     "status": "completed"
    },
    "tags": []
   },
   "outputs": [
    {
     "name": "stdout",
     "output_type": "stream",
     "text": [
      "original weight variance 21.561688259836558\n",
      "mean weight  variance 17.86012173506058\n",
      "median weight variance 17.869561454073647\n"
     ]
    }
   ],
   "source": [
    "#checking variance before and after inputing the mean and median\n",
    "# the variance should always be close with the original variance of the dataset\n",
    "\n",
    "print(\"original weight variance\", bigmart_df[\"Item_Weight\"].var())\n",
    "print(\"mean weight  variance\", bigmart_df[\"Item_Weight_mean\"].var())\n",
    "print(\"median weight variance\", bigmart_df[\"Item_Weight_median\"].var())"
   ]
  },
  {
   "cell_type": "markdown",
   "id": "b360b8e6",
   "metadata": {
    "papermill": {
     "duration": 0.023267,
     "end_time": "2024-03-12T11:19:09.995549",
     "exception": false,
     "start_time": "2024-03-12T11:19:09.972282",
     "status": "completed"
    },
    "tags": []
   },
   "source": [
    "From our result the variance are close which is good\n",
    "so we will plot a graph to know if the original graph of the dataset will also be close with the graph we will get after filling the missing value with mean or median."
   ]
  },
  {
   "cell_type": "code",
   "execution_count": 13,
   "id": "89c64a63",
   "metadata": {
    "papermill": {
     "duration": 1.041271,
     "end_time": "2024-03-12T11:19:11.062947",
     "exception": false,
     "start_time": "2024-03-12T11:19:10.021676",
     "status": "completed"
    },
    "tags": []
   },
   "outputs": [
    {
     "data": {
      "image/png": "[encoded data removed]",
      "text/plain": [
       "<Figure size 640x480 with 1 Axes>"
      ]
     },
     "metadata": {},
     "output_type": "display_data"
    }
   ],
   "source": [
    "bigmart_df[\"Item_Weight\"].plot(kind=\"kde\", label = \"original\")\n",
    "\n",
    "bigmart_df[\"Item_Weight_mean\"].plot(kind=\"kde\", label = \"mean\")\n",
    "bigmart_df[\"Item_Weight_median\"].plot(kind=\"kde\", label = \"median\")\n",
    "\n",
    "plt.legend()\n",
    "plt.show()"
   ]
  },
  {
   "cell_type": "markdown",
   "id": "91128baf",
   "metadata": {
    "papermill": {
     "duration": 0.028267,
     "end_time": "2024-03-12T11:19:11.118959",
     "exception": false,
     "start_time": "2024-03-12T11:19:11.090692",
     "status": "completed"
    },
    "tags": []
   },
   "source": [
    "From the plot above, it is very clear that filling with mean or median will alter our original dataset since most of the dataset were clustered in the middle due to the mean or median used."
   ]
  },
  {
   "cell_type": "code",
   "execution_count": 14,
   "id": "a072f1c6",
   "metadata": {
    "papermill": {
     "duration": 0.051702,
     "end_time": "2024-03-12T11:19:11.197376",
     "exception": false,
     "start_time": "2024-03-12T11:19:11.145674",
     "status": "completed"
    },
    "tags": []
   },
   "outputs": [],
   "source": [
    "#We will try another method in filling the missing values.\n",
    "#checking if linear interpolation can be used to fill the missing values\n",
    "#USING LINEAR INTERPOLATION#\n",
    "bigmart_df[\"Item_Weight_interpolate\"] =bigmart_df[\"Item_Weight\"].interpolate(method = \"linear\")"
   ]
  },
  {
   "cell_type": "code",
   "execution_count": 15,
   "id": "8167829c",
   "metadata": {
    "papermill": {
     "duration": 0.679027,
     "end_time": "2024-03-12T11:19:11.909919",
     "exception": false,
     "start_time": "2024-03-12T11:19:11.230892",
     "status": "completed"
    },
    "tags": []
   },
   "outputs": [
    {
     "data": {
      "image/png": "[encoded data removed]",
      "text/plain": [
       "<Figure size 640x480 with 1 Axes>"
      ]
     },
     "metadata": {},
     "output_type": "display_data"
    }
   ],
   "source": [
    "#We will also plot a graph to know if the original dataset distribution is close with interpolation method.\n",
    "bigmart_df[\"Item_Weight\"].plot(kind=\"kde\", label = \"original\")\n",
    "\n",
    "bigmart_df[\"Item_Weight_interpolate\"].plot(kind=\"kde\", label = \"interpolate\")\n",
    "\n",
    "\n",
    "plt.legend()\n",
    "plt.show()"
   ]
  },
  {
   "cell_type": "markdown",
   "id": "5f7917be",
   "metadata": {
    "papermill": {
     "duration": 0.09147,
     "end_time": "2024-03-12T11:19:12.026920",
     "exception": false,
     "start_time": "2024-03-12T11:19:11.935450",
     "status": "completed"
    },
    "tags": []
   },
   "source": [
    "From the plots the distribution are close and better than the mean and median.\n",
    "\n",
    "We will also try another method from the bivariate method to know if we can use it to fill the missing values"
   ]
  },
  {
   "cell_type": "code",
   "execution_count": 16,
   "id": "2cc7ca05",
   "metadata": {
    "papermill": {
     "duration": 0.938209,
     "end_time": "2024-03-12T11:19:12.989653",
     "exception": false,
     "start_time": "2024-03-12T11:19:12.051444",
     "status": "completed"
    },
    "tags": []
   },
   "outputs": [],
   "source": [
    "from sklearn.impute import KNNImputer\n",
    "\n",
    "knn = KNNImputer(n_neighbors = 10, weights =\"distance\")\n",
    "\n",
    "bigmart_df[\"knn_imputer\"] = knn.fit_transform(bigmart_df[[\"Item_Weight\"]]).ravel()"
   ]
  },
  {
   "cell_type": "code",
   "execution_count": 17,
   "id": "42207043",
   "metadata": {
    "papermill": {
     "duration": 0.697388,
     "end_time": "2024-03-12T11:19:13.714463",
     "exception": false,
     "start_time": "2024-03-12T11:19:13.017075",
     "status": "completed"
    },
    "tags": []
   },
   "outputs": [
    {
     "data": {
      "image/png": "[encoded data removed]",
      "text/plain": [
       "<Figure size 640x480 with 1 Axes>"
      ]
     },
     "metadata": {},
     "output_type": "display_data"
    }
   ],
   "source": [
    "#comparing the k-nearest neighbors method with the original dataset using graph\n",
    "bigmart_df[\"Item_Weight\"].plot(kind=\"kde\", label = \"original\")\n",
    "\n",
    "bigmart_df[\"knn_imputer\"] .plot(kind=\"kde\", label = \"KNN\")\n",
    "\n",
    "\n",
    "plt.legend()\n",
    "plt.show()"
   ]
  },
  {
   "cell_type": "markdown",
   "id": "30234455",
   "metadata": {
    "papermill": {
     "duration": 0.026164,
     "end_time": "2024-03-12T11:19:13.768560",
     "exception": false,
     "start_time": "2024-03-12T11:19:13.742396",
     "status": "completed"
    },
    "tags": []
   },
   "source": [
    "\n",
    "From the dataset above, the datasets where clustered in the middle.\n",
    "so from all the method used, the linear interpolation method is the best filling method to use in this instance."
   ]
  },
  {
   "cell_type": "code",
   "execution_count": 18,
   "id": "b711ae83",
   "metadata": {
    "papermill": {
     "duration": 0.03814,
     "end_time": "2024-03-12T11:19:13.834352",
     "exception": false,
     "start_time": "2024-03-12T11:19:13.796212",
     "status": "completed"
    },
    "tags": []
   },
   "outputs": [],
   "source": [
    "#replacing the missing values\n",
    "#using linear interpolation to replace the values in \"item weight\"\n",
    "bigmart_df[\"Item_Weight\"].fillna(bigmart_df[\"Item_Weight\"].interpolate(method = \"linear\"), inplace = True)"
   ]
  },
  {
   "cell_type": "code",
   "execution_count": 19,
   "id": "db5098e1",
   "metadata": {
    "papermill": {
     "duration": 0.054741,
     "end_time": "2024-03-12T11:19:13.915509",
     "exception": false,
     "start_time": "2024-03-12T11:19:13.860768",
     "status": "completed"
    },
    "tags": []
   },
   "outputs": [
    {
     "data": {
      "text/html": [
       "<div>\n",
       "<style scoped>\n",
       "    .dataframe tbody tr th:only-of-type {\n",
       "        vertical-align: middle;\n",
       "    }\n",
       "\n",
       "    .dataframe tbody tr th {\n",
       "        vertical-align: top;\n",
       "    }\n",
       "\n",
       "    .dataframe thead th {\n",
       "        text-align: right;\n",
       "    }\n",
       "</style>\n",
       "<table border=\"1\" class=\"dataframe\">\n",
       "  <thead>\n",
       "    <tr style=\"text-align: right;\">\n",
       "      <th></th>\n",
       "      <th>Item_Identifier</th>\n",
       "      <th>Item_Weight</th>\n",
       "      <th>Item_Fat_Content</th>\n",
       "      <th>Item_Visibility</th>\n",
       "      <th>Item_Type</th>\n",
       "      <th>Item_MRP</th>\n",
       "      <th>Outlet_Identifier</th>\n",
       "      <th>Outlet_Establishment_Year</th>\n",
       "      <th>Outlet_Size</th>\n",
       "      <th>Outlet_Location_Type</th>\n",
       "      <th>Outlet_Type</th>\n",
       "      <th>Item_Outlet_Sales</th>\n",
       "      <th>Item_Weight_mean</th>\n",
       "      <th>Item_Weight_median</th>\n",
       "      <th>Item_Weight_interpolate</th>\n",
       "      <th>knn_imputer</th>\n",
       "    </tr>\n",
       "  </thead>\n",
       "  <tbody>\n",
       "    <tr>\n",
       "      <th>388</th>\n",
       "      <td>FDP22</td>\n",
       "      <td>17.975</td>\n",
       "      <td>Regular</td>\n",
       "      <td>0.0</td>\n",
       "      <td>Snack Foods</td>\n",
       "      <td>52.6666</td>\n",
       "      <td>OUT027</td>\n",
       "      <td>1985</td>\n",
       "      <td>Medium</td>\n",
       "      <td>Tier 3</td>\n",
       "      <td>Supermarket Type3</td>\n",
       "      <td>717.7324</td>\n",
       "      <td>12.857645</td>\n",
       "      <td>12.6</td>\n",
       "      <td>17.975</td>\n",
       "      <td>12.857645</td>\n",
       "    </tr>\n",
       "  </tbody>\n",
       "</table>\n",
       "</div>"
      ],
      "text/plain": [
       "    Item_Identifier  Item_Weight Item_Fat_Content  Item_Visibility  \\\n",
       "388           FDP22       17.975          Regular              0.0   \n",
       "\n",
       "       Item_Type  Item_MRP Outlet_Identifier  Outlet_Establishment_Year  \\\n",
       "388  Snack Foods   52.6666            OUT027                       1985   \n",
       "\n",
       "    Outlet_Size Outlet_Location_Type        Outlet_Type  Item_Outlet_Sales  \\\n",
       "388      Medium               Tier 3  Supermarket Type3           717.7324   \n",
       "\n",
       "     Item_Weight_mean  Item_Weight_median  Item_Weight_interpolate  \\\n",
       "388         12.857645                12.6                   17.975   \n",
       "\n",
       "     knn_imputer  \n",
       "388    12.857645  "
      ]
     },
     "execution_count": 19,
     "metadata": {},
     "output_type": "execute_result"
    }
   ],
   "source": [
    "bigmart_df.sample()"
   ]
  },
  {
   "cell_type": "code",
   "execution_count": 20,
   "id": "48a422bc",
   "metadata": {
    "papermill": {
     "duration": 0.048551,
     "end_time": "2024-03-12T11:19:13.990506",
     "exception": false,
     "start_time": "2024-03-12T11:19:13.941955",
     "status": "completed"
    },
    "tags": []
   },
   "outputs": [
    {
     "data": {
      "text/plain": [
       "Item_Identifier                 0\n",
       "Item_Weight                     0\n",
       "Item_Fat_Content                0\n",
       "Item_Visibility                 0\n",
       "Item_Type                       0\n",
       "Item_MRP                        0\n",
       "Outlet_Identifier               0\n",
       "Outlet_Establishment_Year       0\n",
       "Outlet_Size                  2410\n",
       "Outlet_Location_Type            0\n",
       "Outlet_Type                     0\n",
       "Item_Outlet_Sales               0\n",
       "Item_Weight_mean                0\n",
       "Item_Weight_median              0\n",
       "Item_Weight_interpolate         0\n",
       "knn_imputer                     0\n",
       "dtype: int64"
      ]
     },
     "execution_count": 20,
     "metadata": {},
     "output_type": "execute_result"
    }
   ],
   "source": [
    "\n",
    "bigmart_df.isnull().sum()"
   ]
  },
  {
   "cell_type": "markdown",
   "id": "321431f8",
   "metadata": {
    "papermill": {
     "duration": 0.026834,
     "end_time": "2024-03-12T11:19:14.046760",
     "exception": false,
     "start_time": "2024-03-12T11:19:14.019926",
     "status": "completed"
    },
    "tags": []
   },
   "source": [
    "from the info above the missing value on item_weight has been taken care of using the linear interpolation method.\n",
    "\n",
    "In categorical dataset we cant use numerical value to input the missing value,\n",
    "but we can use mode to fill in the missing values.\n",
    "also note that when filling with mode there are different strategies that can be used. \n",
    "\n",
    "In this case we will try to compare our outlet_size column with another column in which both are very corelated.\n",
    "#in the dataset columns, outlet_type has a great influence on the outlet_size so we will compare it with outlet_type.\n",
    "\n",
    "Using mode to replace the value in \"outlet_size\""
   ]
  },
  {
   "cell_type": "code",
   "execution_count": 21,
   "id": "22741cea",
   "metadata": {
    "papermill": {
     "duration": 0.051308,
     "end_time": "2024-03-12T11:19:14.125556",
     "exception": false,
     "start_time": "2024-03-12T11:19:14.074248",
     "status": "completed"
    },
    "tags": []
   },
   "outputs": [],
   "source": [
    "mode_of_outlet_size = bigmart_df.pivot_table(values = 'Outlet_Size',columns ='Outlet_Type', aggfunc =(lambda x: x.mode()[0]))"
   ]
  },
  {
   "cell_type": "code",
   "execution_count": 22,
   "id": "aef09946",
   "metadata": {
    "papermill": {
     "duration": 0.046627,
     "end_time": "2024-03-12T11:19:14.198184",
     "exception": false,
     "start_time": "2024-03-12T11:19:14.151557",
     "status": "completed"
    },
    "tags": []
   },
   "outputs": [
    {
     "data": {
      "text/html": [
       "<div>\n",
       "<style scoped>\n",
       "    .dataframe tbody tr th:only-of-type {\n",
       "        vertical-align: middle;\n",
       "    }\n",
       "\n",
       "    .dataframe tbody tr th {\n",
       "        vertical-align: top;\n",
       "    }\n",
       "\n",
       "    .dataframe thead th {\n",
       "        text-align: right;\n",
       "    }\n",
       "</style>\n",
       "<table border=\"1\" class=\"dataframe\">\n",
       "  <thead>\n",
       "    <tr style=\"text-align: right;\">\n",
       "      <th>Outlet_Type</th>\n",
       "      <th>Grocery Store</th>\n",
       "      <th>Supermarket Type1</th>\n",
       "      <th>Supermarket Type2</th>\n",
       "      <th>Supermarket Type3</th>\n",
       "    </tr>\n",
       "  </thead>\n",
       "  <tbody>\n",
       "    <tr>\n",
       "      <th>Outlet_Size</th>\n",
       "      <td>Small</td>\n",
       "      <td>Small</td>\n",
       "      <td>Medium</td>\n",
       "      <td>Medium</td>\n",
       "    </tr>\n",
       "  </tbody>\n",
       "</table>\n",
       "</div>"
      ],
      "text/plain": [
       "Outlet_Type Grocery Store Supermarket Type1 Supermarket Type2  \\\n",
       "Outlet_Size         Small             Small            Medium   \n",
       "\n",
       "Outlet_Type Supermarket Type3  \n",
       "Outlet_Size            Medium  "
      ]
     },
     "execution_count": 22,
     "metadata": {},
     "output_type": "execute_result"
    }
   ],
   "source": [
    "mode_of_outlet_size"
   ]
  },
  {
   "cell_type": "code",
   "execution_count": 23,
   "id": "ed7a7085",
   "metadata": {
    "papermill": {
     "duration": 0.037228,
     "end_time": "2024-03-12T11:19:14.262147",
     "exception": false,
     "start_time": "2024-03-12T11:19:14.224919",
     "status": "completed"
    },
    "tags": []
   },
   "outputs": [],
   "source": [
    "missing_value = bigmart_df['Outlet_Size'].isnull()"
   ]
  },
  {
   "cell_type": "code",
   "execution_count": 24,
   "id": "dc780857",
   "metadata": {
    "papermill": {
     "duration": 0.110287,
     "end_time": "2024-03-12T11:19:14.399209",
     "exception": false,
     "start_time": "2024-03-12T11:19:14.288922",
     "status": "completed"
    },
    "tags": []
   },
   "outputs": [],
   "source": [
    "bigmart_df.loc[missing_value, 'Outlet_Size'] = bigmart_df.loc[missing_value, 'Outlet_Type'].apply(lambda x: mode_of_outlet_size[x])"
   ]
  },
  {
   "cell_type": "code",
   "execution_count": 25,
   "id": "83805a22",
   "metadata": {
    "papermill": {
     "duration": 0.048289,
     "end_time": "2024-03-12T11:19:14.476610",
     "exception": false,
     "start_time": "2024-03-12T11:19:14.428321",
     "status": "completed"
    },
    "tags": []
   },
   "outputs": [
    {
     "data": {
      "text/plain": [
       "Item_Identifier              0\n",
       "Item_Weight                  0\n",
       "Item_Fat_Content             0\n",
       "Item_Visibility              0\n",
       "Item_Type                    0\n",
       "Item_MRP                     0\n",
       "Outlet_Identifier            0\n",
       "Outlet_Establishment_Year    0\n",
       "Outlet_Size                  0\n",
       "Outlet_Location_Type         0\n",
       "Outlet_Type                  0\n",
       "Item_Outlet_Sales            0\n",
       "Item_Weight_mean             0\n",
       "Item_Weight_median           0\n",
       "Item_Weight_interpolate      0\n",
       "knn_imputer                  0\n",
       "dtype: int64"
      ]
     },
     "execution_count": 25,
     "metadata": {},
     "output_type": "execute_result"
    }
   ],
   "source": [
    "bigmart_df.isnull().sum()"
   ]
  },
  {
   "cell_type": "markdown",
   "id": "2e02cee4",
   "metadata": {
    "papermill": {
     "duration": 0.026008,
     "end_time": "2024-03-12T11:19:14.530682",
     "exception": false,
     "start_time": "2024-03-12T11:19:14.504674",
     "status": "completed"
    },
    "tags": []
   },
   "source": [
    "since the missing value has been taken care of, we will ckeck our colunms to check if there is any more missing values in any of those columns.\n",
    "\n",
    "\n"
   ]
  },
  {
   "cell_type": "code",
   "execution_count": 26,
   "id": "7fbd8d11",
   "metadata": {
    "papermill": {
     "duration": 0.049179,
     "end_time": "2024-03-12T11:19:14.606565",
     "exception": false,
     "start_time": "2024-03-12T11:19:14.557386",
     "status": "completed"
    },
    "tags": []
   },
   "outputs": [
    {
     "data": {
      "text/plain": [
       "Outlet_Size\n",
       "Small     4798\n",
       "Medium    2793\n",
       "High       932\n",
       "Name: count, dtype: int64"
      ]
     },
     "execution_count": 26,
     "metadata": {},
     "output_type": "execute_result"
    }
   ],
   "source": [
    "bigmart_df[\"Outlet_Size\"].value_counts()"
   ]
  },
  {
   "cell_type": "code",
   "execution_count": 27,
   "id": "cd8d3c0f",
   "metadata": {
    "papermill": {
     "duration": 0.045238,
     "end_time": "2024-03-12T11:19:14.680217",
     "exception": false,
     "start_time": "2024-03-12T11:19:14.634979",
     "status": "completed"
    },
    "tags": []
   },
   "outputs": [
    {
     "data": {
      "text/plain": [
       "Item_Fat_Content\n",
       "Low Fat    5089\n",
       "Regular    2889\n",
       "LF          316\n",
       "reg         117\n",
       "low fat     112\n",
       "Name: count, dtype: int64"
      ]
     },
     "execution_count": 27,
     "metadata": {},
     "output_type": "execute_result"
    }
   ],
   "source": [
    "bigmart_df[\"Item_Fat_Content\"].value_counts()"
   ]
  },
  {
   "cell_type": "markdown",
   "id": "27784f2d",
   "metadata": {
    "papermill": {
     "duration": 0.028315,
     "end_time": "2024-03-12T11:19:14.738247",
     "exception": false,
     "start_time": "2024-03-12T11:19:14.709932",
     "status": "completed"
    },
    "tags": []
   },
   "source": [
    "from above, there are some disarrangement in the item_fat_content columns\n",
    "so we will assign LF, low fat - Low fat\n",
    "and assign reg - Regular"
   ]
  },
  {
   "cell_type": "code",
   "execution_count": 28,
   "id": "680dd4b7",
   "metadata": {
    "papermill": {
     "duration": 0.053842,
     "end_time": "2024-03-12T11:19:14.818925",
     "exception": false,
     "start_time": "2024-03-12T11:19:14.765083",
     "status": "completed"
    },
    "tags": []
   },
   "outputs": [],
   "source": [
    "bigmart_df.replace({\"Item_Fat_Content\": {\"LF\" :\"Low Fat\", \"low fat\" : \"Low Fat\", \"reg\": \"Regular\" }}, inplace =True)"
   ]
  },
  {
   "cell_type": "code",
   "execution_count": 29,
   "id": "deab4dfa",
   "metadata": {
    "papermill": {
     "duration": 0.041958,
     "end_time": "2024-03-12T11:19:14.887660",
     "exception": false,
     "start_time": "2024-03-12T11:19:14.845702",
     "status": "completed"
    },
    "tags": []
   },
   "outputs": [
    {
     "data": {
      "text/plain": [
       "Item_Fat_Content\n",
       "Low Fat    5517\n",
       "Regular    3006\n",
       "Name: count, dtype: int64"
      ]
     },
     "execution_count": 29,
     "metadata": {},
     "output_type": "execute_result"
    }
   ],
   "source": [
    "\n",
    "#checking to see if the the problem has been rectified\n",
    "bigmart_df[\"Item_Fat_Content\"].value_counts()"
   ]
  },
  {
   "cell_type": "code",
   "execution_count": 30,
   "id": "9ca2cac0",
   "metadata": {
    "papermill": {
     "duration": 0.042994,
     "end_time": "2024-03-12T11:19:14.959453",
     "exception": false,
     "start_time": "2024-03-12T11:19:14.916459",
     "status": "completed"
    },
    "tags": []
   },
   "outputs": [
    {
     "data": {
      "text/plain": [
       "Item_Visibility\n",
       "0.000000    526\n",
       "0.076975      3\n",
       "0.162462      2\n",
       "0.076841      2\n",
       "0.073562      2\n",
       "           ... \n",
       "0.013957      1\n",
       "0.110460      1\n",
       "0.124646      1\n",
       "0.054142      1\n",
       "0.044878      1\n",
       "Name: count, Length: 7880, dtype: int64"
      ]
     },
     "execution_count": 30,
     "metadata": {},
     "output_type": "execute_result"
    }
   ],
   "source": [
    "bigmart_df[\"Item_Visibility\"].value_counts()"
   ]
  },
  {
   "cell_type": "markdown",
   "id": "8c1a0ffa",
   "metadata": {
    "papermill": {
     "duration": 0.029737,
     "end_time": "2024-03-12T11:19:15.016315",
     "exception": false,
     "start_time": "2024-03-12T11:19:14.986578",
     "status": "completed"
    },
    "tags": []
   },
   "source": [
    "from the values above there are 526 values that are 0, which means there is a problem with the data columns.\n",
    "\n",
    "We will also use linear interpolation to fill in the missing values here."
   ]
  },
  {
   "cell_type": "code",
   "execution_count": 31,
   "id": "6357fc56",
   "metadata": {
    "papermill": {
     "duration": 0.040701,
     "end_time": "2024-03-12T11:19:15.084949",
     "exception": false,
     "start_time": "2024-03-12T11:19:15.044248",
     "status": "completed"
    },
    "tags": []
   },
   "outputs": [],
   "source": [
    "bigmart_df[\"Item_Visibility_interpolate\"] =bigmart_df[\"Item_Visibility\"].replace(0,np.nan).interpolate(method = \"linear\")"
   ]
  },
  {
   "cell_type": "code",
   "execution_count": 32,
   "id": "6e3fee93",
   "metadata": {
    "papermill": {
     "duration": 0.043804,
     "end_time": "2024-03-12T11:19:15.160086",
     "exception": false,
     "start_time": "2024-03-12T11:19:15.116282",
     "status": "completed"
    },
    "tags": []
   },
   "outputs": [
    {
     "data": {
      "text/plain": [
       "Item_Visibility_interpolate\n",
       "0.076975    3\n",
       "0.044024    2\n",
       "0.040912    2\n",
       "0.076856    2\n",
       "0.078759    2\n",
       "           ..\n",
       "0.021011    1\n",
       "0.099189    1\n",
       "0.076866    1\n",
       "0.014116    1\n",
       "0.044878    1\n",
       "Name: count, Length: 8405, dtype: int64"
      ]
     },
     "execution_count": 32,
     "metadata": {},
     "output_type": "execute_result"
    }
   ],
   "source": [
    "#checking to know if the missing values has been changed\n",
    "bigmart_df[\"Item_Visibility_interpolate\"].value_counts()"
   ]
  },
  {
   "cell_type": "code",
   "execution_count": 33,
   "id": "2496f73d",
   "metadata": {
    "papermill": {
     "duration": 0.780444,
     "end_time": "2024-03-12T11:19:15.970543",
     "exception": false,
     "start_time": "2024-03-12T11:19:15.190099",
     "status": "completed"
    },
    "tags": []
   },
   "outputs": [
    {
     "data": {
      "image/png": "[encoded data removed]",
      "text/plain": [
       "<Figure size 640x480 with 1 Axes>"
      ]
     },
     "metadata": {},
     "output_type": "display_data"
    }
   ],
   "source": [
    "#checking the distribution after and before with interpolation to be sure it didnt affect the original dataset for item_vissibility\n",
    "bigmart_df[\"Item_Visibility\"].plot(kind=\"kde\", label = \"original\")\n",
    "\n",
    "bigmart_df[\"Item_Visibility_interpolate\"] .plot(kind=\"kde\",color =\"red\", label = \"Interpolation\")\n",
    "\n",
    "\n",
    "plt.legend()\n",
    "plt.show()"
   ]
  },
  {
   "cell_type": "code",
   "execution_count": 34,
   "id": "bd95bbcb",
   "metadata": {
    "papermill": {
     "duration": 0.046723,
     "end_time": "2024-03-12T11:19:16.048892",
     "exception": false,
     "start_time": "2024-03-12T11:19:16.002169",
     "status": "completed"
    },
    "tags": []
   },
   "outputs": [
    {
     "data": {
      "text/plain": [
       "Item_Identifier\n",
       "FDW13    10\n",
       "FDG33    10\n",
       "NCY18     9\n",
       "FDD38     9\n",
       "DRE49     9\n",
       "         ..\n",
       "FDY43     1\n",
       "FDQ60     1\n",
       "FDO33     1\n",
       "DRF48     1\n",
       "FDC23     1\n",
       "Name: count, Length: 1559, dtype: int64"
      ]
     },
     "execution_count": 34,
     "metadata": {},
     "output_type": "execute_result"
    }
   ],
   "source": [
    "bigmart_df[\"Item_Identifier\"].value_counts()"
   ]
  },
  {
   "cell_type": "code",
   "execution_count": 35,
   "id": "ee7227bf",
   "metadata": {
    "papermill": {
     "duration": 0.048199,
     "end_time": "2024-03-12T11:19:16.125766",
     "exception": false,
     "start_time": "2024-03-12T11:19:16.077567",
     "status": "completed"
    },
    "tags": []
   },
   "outputs": [],
   "source": [
    "#since most of the columns started with either FD, NC, DR, etc.\n",
    "#i will use the first two letters to identify them\n",
    "\n",
    "bigmart_df[\"Item_Identifier\"] = bigmart_df[\"Item_Identifier\"].apply(lambda x : x[:2])"
   ]
  },
  {
   "cell_type": "code",
   "execution_count": 36,
   "id": "76c7dbef",
   "metadata": {
    "papermill": {
     "duration": 0.054441,
     "end_time": "2024-03-12T11:19:16.210420",
     "exception": false,
     "start_time": "2024-03-12T11:19:16.155979",
     "status": "completed"
    },
    "tags": []
   },
   "outputs": [
    {
     "data": {
      "text/plain": [
       "Item_Identifier\n",
       "FD    6125\n",
       "NC    1599\n",
       "DR     799\n",
       "Name: count, dtype: int64"
      ]
     },
     "execution_count": 36,
     "metadata": {},
     "output_type": "execute_result"
    }
   ],
   "source": [
    "bigmart_df[\"Item_Identifier\"].value_counts()"
   ]
  },
  {
   "cell_type": "code",
   "execution_count": 37,
   "id": "eb7a90ca",
   "metadata": {
    "papermill": {
     "duration": 0.064314,
     "end_time": "2024-03-12T11:19:16.308948",
     "exception": false,
     "start_time": "2024-03-12T11:19:16.244634",
     "status": "completed"
    },
    "tags": []
   },
   "outputs": [
    {
     "data": {
      "text/plain": [
       "Outlet_Establishment_Year\n",
       "1985    1463\n",
       "1987     932\n",
       "1999     930\n",
       "1997     930\n",
       "2004     930\n",
       "2002     929\n",
       "2009     928\n",
       "2007     926\n",
       "1998     555\n",
       "Name: count, dtype: int64"
      ]
     },
     "execution_count": 37,
     "metadata": {},
     "output_type": "execute_result"
    }
   ],
   "source": [
    "bigmart_df[\"Outlet_Establishment_Year\"].value_counts()"
   ]
  },
  {
   "cell_type": "code",
   "execution_count": 38,
   "id": "b25bdb5c",
   "metadata": {
    "papermill": {
     "duration": 0.050312,
     "end_time": "2024-03-12T11:19:16.390442",
     "exception": false,
     "start_time": "2024-03-12T11:19:16.340130",
     "status": "completed"
    },
    "tags": []
   },
   "outputs": [
    {
     "data": {
      "text/plain": [
       "2024"
      ]
     },
     "execution_count": 38,
     "metadata": {},
     "output_type": "execute_result"
    }
   ],
   "source": [
    "#To convert them to age \n",
    "current_year = dt.datetime.today().year\n",
    "\n",
    "current_year"
   ]
  },
  {
   "cell_type": "code",
   "execution_count": 39,
   "id": "d5d7226c",
   "metadata": {
    "papermill": {
     "duration": 0.041427,
     "end_time": "2024-03-12T11:19:16.463813",
     "exception": false,
     "start_time": "2024-03-12T11:19:16.422386",
     "status": "completed"
    },
    "tags": []
   },
   "outputs": [],
   "source": [
    "bigmart_df[\"Outlet_age\"] = current_year - bigmart_df[\"Outlet_Establishment_Year\"]"
   ]
  },
  {
   "cell_type": "code",
   "execution_count": 40,
   "id": "2a1257b6",
   "metadata": {
    "papermill": {
     "duration": 0.061215,
     "end_time": "2024-03-12T11:19:16.555457",
     "exception": false,
     "start_time": "2024-03-12T11:19:16.494242",
     "status": "completed"
    },
    "tags": []
   },
   "outputs": [
    {
     "data": {
      "text/html": [
       "<div>\n",
       "<style scoped>\n",
       "    .dataframe tbody tr th:only-of-type {\n",
       "        vertical-align: middle;\n",
       "    }\n",
       "\n",
       "    .dataframe tbody tr th {\n",
       "        vertical-align: top;\n",
       "    }\n",
       "\n",
       "    .dataframe thead th {\n",
       "        text-align: right;\n",
       "    }\n",
       "</style>\n",
       "<table border=\"1\" class=\"dataframe\">\n",
       "  <thead>\n",
       "    <tr style=\"text-align: right;\">\n",
       "      <th></th>\n",
       "      <th>Item_Identifier</th>\n",
       "      <th>Item_Weight</th>\n",
       "      <th>Item_Fat_Content</th>\n",
       "      <th>Item_Visibility</th>\n",
       "      <th>Item_Type</th>\n",
       "      <th>Item_MRP</th>\n",
       "      <th>Outlet_Identifier</th>\n",
       "      <th>Outlet_Establishment_Year</th>\n",
       "      <th>Outlet_Size</th>\n",
       "      <th>Outlet_Location_Type</th>\n",
       "      <th>Outlet_Type</th>\n",
       "      <th>Item_Outlet_Sales</th>\n",
       "      <th>Item_Weight_mean</th>\n",
       "      <th>Item_Weight_median</th>\n",
       "      <th>Item_Weight_interpolate</th>\n",
       "      <th>knn_imputer</th>\n",
       "      <th>Item_Visibility_interpolate</th>\n",
       "      <th>Outlet_age</th>\n",
       "    </tr>\n",
       "  </thead>\n",
       "  <tbody>\n",
       "    <tr>\n",
       "      <th>0</th>\n",
       "      <td>FD</td>\n",
       "      <td>9.3</td>\n",
       "      <td>Low Fat</td>\n",
       "      <td>0.016047</td>\n",
       "      <td>Dairy</td>\n",
       "      <td>249.8092</td>\n",
       "      <td>OUT049</td>\n",
       "      <td>1999</td>\n",
       "      <td>Medium</td>\n",
       "      <td>Tier 1</td>\n",
       "      <td>Supermarket Type1</td>\n",
       "      <td>3735.138</td>\n",
       "      <td>9.3</td>\n",
       "      <td>9.3</td>\n",
       "      <td>9.3</td>\n",
       "      <td>9.3</td>\n",
       "      <td>0.016047</td>\n",
       "      <td>25</td>\n",
       "    </tr>\n",
       "  </tbody>\n",
       "</table>\n",
       "</div>"
      ],
      "text/plain": [
       "  Item_Identifier  Item_Weight Item_Fat_Content  Item_Visibility Item_Type  \\\n",
       "0              FD          9.3          Low Fat         0.016047     Dairy   \n",
       "\n",
       "   Item_MRP Outlet_Identifier  Outlet_Establishment_Year Outlet_Size  \\\n",
       "0  249.8092            OUT049                       1999      Medium   \n",
       "\n",
       "  Outlet_Location_Type        Outlet_Type  Item_Outlet_Sales  \\\n",
       "0               Tier 1  Supermarket Type1           3735.138   \n",
       "\n",
       "   Item_Weight_mean  Item_Weight_median  Item_Weight_interpolate  knn_imputer  \\\n",
       "0               9.3                 9.3                      9.3          9.3   \n",
       "\n",
       "   Item_Visibility_interpolate  Outlet_age  \n",
       "0                     0.016047          25  "
      ]
     },
     "execution_count": 40,
     "metadata": {},
     "output_type": "execute_result"
    }
   ],
   "source": [
    "#checking if the age was sucessfully converted\n",
    "bigmart_df.head(1)"
   ]
  },
  {
   "cell_type": "code",
   "execution_count": 41,
   "id": "75e1354c",
   "metadata": {
    "papermill": {
     "duration": 0.04614,
     "end_time": "2024-03-12T11:19:16.633216",
     "exception": false,
     "start_time": "2024-03-12T11:19:16.587076",
     "status": "completed"
    },
    "tags": []
   },
   "outputs": [],
   "source": [
    "#At the end of \"handling the missing values\" i will drop the colunms i don't need.\n",
    "bigmart_df.drop([ \"Outlet_Establishment_Year\",\"Item_Visibility\",\"Item_Weight_mean\",\"Item_Weight_median\",\"Item_Weight_interpolate\",\"knn_imputer\"], axis = 1, inplace = True)"
   ]
  },
  {
   "cell_type": "markdown",
   "id": "77444ca1",
   "metadata": {
    "papermill": {
     "duration": 0.037448,
     "end_time": "2024-03-12T11:19:16.701733",
     "exception": false,
     "start_time": "2024-03-12T11:19:16.664285",
     "status": "completed"
    },
    "tags": []
   },
   "source": [
    "Data Visualization\n",
    "lets have more insight into what our data looks like"
   ]
  },
  {
   "cell_type": "code",
   "execution_count": 42,
   "id": "62d92f43",
   "metadata": {
    "papermill": {
     "duration": 0.046315,
     "end_time": "2024-03-12T11:19:16.781944",
     "exception": false,
     "start_time": "2024-03-12T11:19:16.735629",
     "status": "completed"
    },
    "tags": []
   },
   "outputs": [],
   "source": [
    "sns.set() # this is used to give a theme to our graphs"
   ]
  },
  {
   "cell_type": "code",
   "execution_count": 43,
   "id": "6645d6a8",
   "metadata": {
    "papermill": {
     "duration": 0.551103,
     "end_time": "2024-03-12T11:19:17.366470",
     "exception": false,
     "start_time": "2024-03-12T11:19:16.815367",
     "status": "completed"
    },
    "tags": []
   },
   "outputs": [
    {
     "name": "stderr",
     "output_type": "stream",
     "text": [
      "/tmp/ipykernel_2443/880364946.py:2: UserWarning: \n",
      "\n",
      "`distplot` is a deprecated function and will be removed in seaborn v0.14.0.\n",
      "\n",
      "Please adapt your code to use either `displot` (a figure-level function with\n",
      "similar flexibility) or `histplot` (an axes-level function for histograms).\n",
      "\n",
      "For a guide to updating your code to use the new functions, please see\n",
      "https://gist.github.com/mwaskom/de44147ed2974457ad6372750bbe5751\n",
      "\n",
      "  sns.distplot(bigmart_df[\"Item_Weight\"])\n"
     ]
    },
    {
     "data": {
      "image/png": "[encoded data removed]",
      "text/plain": [
       "<Figure size 600x600 with 1 Axes>"
      ]
     },
     "metadata": {},
     "output_type": "display_data"
    }
   ],
   "source": [
    "plt.figure(figsize =(6,6))\n",
    "sns.distplot(bigmart_df[\"Item_Weight\"])\n",
    "plt.show()"
   ]
  },
  {
   "cell_type": "code",
   "execution_count": 44,
   "id": "9c4567dc",
   "metadata": {
    "papermill": {
     "duration": 0.890374,
     "end_time": "2024-03-12T11:19:18.291154",
     "exception": false,
     "start_time": "2024-03-12T11:19:17.400780",
     "status": "completed"
    },
    "tags": []
   },
   "outputs": [
    {
     "data": {
      "text/plain": [
       "<Figure size 600x600 with 0 Axes>"
      ]
     },
     "metadata": {},
     "output_type": "display_data"
    },
    {
     "data": {
      "image/png": "[encoded data removed]",
      "text/plain": [
       "<Figure size 500x500 with 1 Axes>"
      ]
     },
     "metadata": {},
     "output_type": "display_data"
    }
   ],
   "source": [
    "plt.figure(figsize =(6,6))\n",
    "sns.displot(bigmart_df[\"Item_Visibility_interpolate\"])\n",
    "plt.show()"
   ]
  },
  {
   "cell_type": "code",
   "execution_count": 45,
   "id": "20d69b3e",
   "metadata": {
    "papermill": {
     "duration": 0.456815,
     "end_time": "2024-03-12T11:19:18.781118",
     "exception": false,
     "start_time": "2024-03-12T11:19:18.324303",
     "status": "completed"
    },
    "tags": []
   },
   "outputs": [
    {
     "data": {
      "image/png": "[encoded data removed]",
      "text/plain": [
       "<Figure size 1500x600 with 1 Axes>"
      ]
     },
     "metadata": {},
     "output_type": "display_data"
    }
   ],
   "source": [
    "plt.figure(figsize=(15,6))\n",
    "sns.countplot(data= bigmart_df, x=\"Outlet_age\" )\n",
    "plt.show()"
   ]
  },
  {
   "cell_type": "code",
   "execution_count": 46,
   "id": "12abc137",
   "metadata": {
    "papermill": {
     "duration": 0.958186,
     "end_time": "2024-03-12T11:19:19.778826",
     "exception": false,
     "start_time": "2024-03-12T11:19:18.820640",
     "status": "completed"
    },
    "tags": []
   },
   "outputs": [
    {
     "data": {
      "text/plain": [
       "<Figure size 2500x600 with 0 Axes>"
      ]
     },
     "metadata": {},
     "output_type": "display_data"
    },
    {
     "data": {
      "image/png": "[encoded data removed]",
      "text/plain": [
       "<Figure size 512.222x500 with 1 Axes>"
      ]
     },
     "metadata": {},
     "output_type": "display_data"
    }
   ],
   "source": [
    "plt.figure(figsize=(25,6))\n",
    "sns.catplot(data= bigmart_df, x=\"Outlet_age\", y=\"Item_Outlet_Sales\", kind=\"bar\")\n",
    "plt.show()"
   ]
  },
  {
   "cell_type": "code",
   "execution_count": 47,
   "id": "6ab4e46f",
   "metadata": {
    "papermill": {
     "duration": 0.288664,
     "end_time": "2024-03-12T11:19:20.110379",
     "exception": false,
     "start_time": "2024-03-12T11:19:19.821715",
     "status": "completed"
    },
    "tags": []
   },
   "outputs": [
    {
     "data": {
      "image/png": "[encoded data removed]",
      "text/plain": [
       "<Figure size 800x600 with 1 Axes>"
      ]
     },
     "metadata": {},
     "output_type": "display_data"
    }
   ],
   "source": [
    "\n",
    "plt.figure(figsize=(8,6))\n",
    "sns.countplot(data= bigmart_df, x=\"Outlet_Size\")\n",
    "plt.show()"
   ]
  },
  {
   "cell_type": "code",
   "execution_count": 48,
   "id": "49f8c3d6",
   "metadata": {
    "papermill": {
     "duration": 0.332841,
     "end_time": "2024-03-12T11:19:20.477357",
     "exception": false,
     "start_time": "2024-03-12T11:19:20.144516",
     "status": "completed"
    },
    "tags": []
   },
   "outputs": [
    {
     "data": {
      "image/png": "[encoded data removed]",
      "text/plain": [
       "<Figure size 800x600 with 1 Axes>"
      ]
     },
     "metadata": {},
     "output_type": "display_data"
    }
   ],
   "source": [
    "plt.figure(figsize=(8,6))\n",
    "sns.countplot(data= bigmart_df, x=\"Item_Fat_Content\")\n",
    "plt.title(\"ItemFat Content Count\")\n",
    "plt.show()"
   ]
  },
  {
   "cell_type": "markdown",
   "id": "6e864463",
   "metadata": {
    "papermill": {
     "duration": 0.038131,
     "end_time": "2024-03-12T11:19:20.557903",
     "exception": false,
     "start_time": "2024-03-12T11:19:20.519772",
     "status": "completed"
    },
    "tags": []
   },
   "source": [
    "ENCODING\n",
    "\n",
    "we will encode the categorical columns we will be needing to numerical columns"
   ]
  },
  {
   "cell_type": "code",
   "execution_count": 49,
   "id": "aa7856c7",
   "metadata": {
    "papermill": {
     "duration": 0.07547,
     "end_time": "2024-03-12T11:19:20.669251",
     "exception": false,
     "start_time": "2024-03-12T11:19:20.593781",
     "status": "completed"
    },
    "tags": []
   },
   "outputs": [],
   "source": [
    "#LABEL ENCODING\n",
    "coder = LabelEncoder()\n",
    "bigmart_df[\"Item_Identifier\"] = coder.fit_transform(bigmart_df[\"Item_Identifier\"])\n",
    "bigmart_df[\"Item_Fat_Content\"] = coder.fit_transform(bigmart_df[\"Item_Fat_Content\"])\n",
    "bigmart_df[\"Item_Type\"] = coder.fit_transform(bigmart_df[\"Item_Type\"])\n",
    "bigmart_df[\"Outlet_Identifier\"] = coder.fit_transform(bigmart_df[\"Outlet_Identifier\"])\n",
    "bigmart_df[\"Outlet_Size\"] = coder.fit_transform(bigmart_df[\"Outlet_Size\"])\n",
    "bigmart_df[\"Outlet_Location_Type\"] = coder.fit_transform(bigmart_df[\"Outlet_Location_Type\"])\n",
    "bigmart_df[\"Outlet_Type\"] = coder.fit_transform(bigmart_df[\"Outlet_Type\"])"
   ]
  },
  {
   "cell_type": "code",
   "execution_count": 50,
   "id": "81f508e9",
   "metadata": {
    "papermill": {
     "duration": 0.073904,
     "end_time": "2024-03-12T11:19:20.782821",
     "exception": false,
     "start_time": "2024-03-12T11:19:20.708917",
     "status": "completed"
    },
    "tags": []
   },
   "outputs": [
    {
     "data": {
      "text/html": [
       "<div>\n",
       "<style scoped>\n",
       "    .dataframe tbody tr th:only-of-type {\n",
       "        vertical-align: middle;\n",
       "    }\n",
       "\n",
       "    .dataframe tbody tr th {\n",
       "        vertical-align: top;\n",
       "    }\n",
       "\n",
       "    .dataframe thead th {\n",
       "        text-align: right;\n",
       "    }\n",
       "</style>\n",
       "<table border=\"1\" class=\"dataframe\">\n",
       "  <thead>\n",
       "    <tr style=\"text-align: right;\">\n",
       "      <th></th>\n",
       "      <th>Item_Identifier</th>\n",
       "      <th>Item_Weight</th>\n",
       "      <th>Item_Fat_Content</th>\n",
       "      <th>Item_Type</th>\n",
       "      <th>Item_MRP</th>\n",
       "      <th>Outlet_Identifier</th>\n",
       "      <th>Outlet_Size</th>\n",
       "      <th>Outlet_Location_Type</th>\n",
       "      <th>Outlet_Type</th>\n",
       "      <th>Item_Outlet_Sales</th>\n",
       "      <th>Item_Visibility_interpolate</th>\n",
       "      <th>Outlet_age</th>\n",
       "    </tr>\n",
       "  </thead>\n",
       "  <tbody>\n",
       "    <tr>\n",
       "      <th>Item_Identifier</th>\n",
       "      <td>1.000000</td>\n",
       "      <td>0.056939</td>\n",
       "      <td>-0.166111</td>\n",
       "      <td>0.007456</td>\n",
       "      <td>0.032517</td>\n",
       "      <td>-0.009730</td>\n",
       "      <td>-0.001276</td>\n",
       "      <td>0.007661</td>\n",
       "      <td>0.001136</td>\n",
       "      <td>0.011236</td>\n",
       "      <td>-0.046347</td>\n",
       "      <td>0.008551</td>\n",
       "    </tr>\n",
       "    <tr>\n",
       "      <th>Item_Weight</th>\n",
       "      <td>0.056939</td>\n",
       "      <td>1.000000</td>\n",
       "      <td>-0.015030</td>\n",
       "      <td>0.028262</td>\n",
       "      <td>0.024839</td>\n",
       "      <td>-0.006937</td>\n",
       "      <td>-0.014556</td>\n",
       "      <td>0.005960</td>\n",
       "      <td>-0.000858</td>\n",
       "      <td>0.014536</td>\n",
       "      <td>-0.012096</td>\n",
       "      <td>-0.001220</td>\n",
       "    </tr>\n",
       "    <tr>\n",
       "      <th>Item_Fat_Content</th>\n",
       "      <td>-0.166111</td>\n",
       "      <td>-0.015030</td>\n",
       "      <td>1.000000</td>\n",
       "      <td>-0.139434</td>\n",
       "      <td>0.006063</td>\n",
       "      <td>0.000764</td>\n",
       "      <td>-0.001262</td>\n",
       "      <td>-0.001598</td>\n",
       "      <td>0.002199</td>\n",
       "      <td>0.018719</td>\n",
       "      <td>0.048694</td>\n",
       "      <td>-0.003151</td>\n",
       "    </tr>\n",
       "    <tr>\n",
       "      <th>Item_Type</th>\n",
       "      <td>0.007456</td>\n",
       "      <td>0.028262</td>\n",
       "      <td>-0.139434</td>\n",
       "      <td>1.000000</td>\n",
       "      <td>0.032651</td>\n",
       "      <td>0.001656</td>\n",
       "      <td>-0.000218</td>\n",
       "      <td>0.003084</td>\n",
       "      <td>0.003053</td>\n",
       "      <td>0.017048</td>\n",
       "      <td>-0.033981</td>\n",
       "      <td>-0.004970</td>\n",
       "    </tr>\n",
       "    <tr>\n",
       "      <th>Item_MRP</th>\n",
       "      <td>0.032517</td>\n",
       "      <td>0.024839</td>\n",
       "      <td>0.006063</td>\n",
       "      <td>0.032651</td>\n",
       "      <td>1.000000</td>\n",
       "      <td>0.003319</td>\n",
       "      <td>0.000872</td>\n",
       "      <td>0.000232</td>\n",
       "      <td>-0.001975</td>\n",
       "      <td>0.567574</td>\n",
       "      <td>-0.006544</td>\n",
       "      <td>-0.005020</td>\n",
       "    </tr>\n",
       "    <tr>\n",
       "      <th>Outlet_Identifier</th>\n",
       "      <td>-0.009730</td>\n",
       "      <td>-0.006937</td>\n",
       "      <td>0.000764</td>\n",
       "      <td>0.001656</td>\n",
       "      <td>0.003319</td>\n",
       "      <td>1.000000</td>\n",
       "      <td>0.260272</td>\n",
       "      <td>-0.716176</td>\n",
       "      <td>0.099873</td>\n",
       "      <td>0.162325</td>\n",
       "      <td>-0.102528</td>\n",
       "      <td>-0.079035</td>\n",
       "    </tr>\n",
       "    <tr>\n",
       "      <th>Outlet_Size</th>\n",
       "      <td>-0.001276</td>\n",
       "      <td>-0.014556</td>\n",
       "      <td>-0.001262</td>\n",
       "      <td>-0.000218</td>\n",
       "      <td>0.000872</td>\n",
       "      <td>0.260272</td>\n",
       "      <td>1.000000</td>\n",
       "      <td>-0.480075</td>\n",
       "      <td>-0.401373</td>\n",
       "      <td>-0.162753</td>\n",
       "      <td>0.098213</td>\n",
       "      <td>-0.425534</td>\n",
       "    </tr>\n",
       "    <tr>\n",
       "      <th>Outlet_Location_Type</th>\n",
       "      <td>0.007661</td>\n",
       "      <td>0.005960</td>\n",
       "      <td>-0.001598</td>\n",
       "      <td>0.003084</td>\n",
       "      <td>0.000232</td>\n",
       "      <td>-0.716176</td>\n",
       "      <td>-0.480075</td>\n",
       "      <td>1.000000</td>\n",
       "      <td>0.467219</td>\n",
       "      <td>0.089367</td>\n",
       "      <td>-0.030813</td>\n",
       "      <td>0.089216</td>\n",
       "    </tr>\n",
       "    <tr>\n",
       "      <th>Outlet_Type</th>\n",
       "      <td>0.001136</td>\n",
       "      <td>-0.000858</td>\n",
       "      <td>0.002199</td>\n",
       "      <td>0.003053</td>\n",
       "      <td>-0.001975</td>\n",
       "      <td>0.099873</td>\n",
       "      <td>-0.401373</td>\n",
       "      <td>0.467219</td>\n",
       "      <td>1.000000</td>\n",
       "      <td>0.401522</td>\n",
       "      <td>-0.179788</td>\n",
       "      <td>0.122304</td>\n",
       "    </tr>\n",
       "    <tr>\n",
       "      <th>Item_Outlet_Sales</th>\n",
       "      <td>0.011236</td>\n",
       "      <td>0.014536</td>\n",
       "      <td>0.018719</td>\n",
       "      <td>0.017048</td>\n",
       "      <td>0.567574</td>\n",
       "      <td>0.162325</td>\n",
       "      <td>-0.162753</td>\n",
       "      <td>0.089367</td>\n",
       "      <td>0.401522</td>\n",
       "      <td>1.000000</td>\n",
       "      <td>-0.133874</td>\n",
       "      <td>0.049135</td>\n",
       "    </tr>\n",
       "    <tr>\n",
       "      <th>Item_Visibility_interpolate</th>\n",
       "      <td>-0.046347</td>\n",
       "      <td>-0.012096</td>\n",
       "      <td>0.048694</td>\n",
       "      <td>-0.033981</td>\n",
       "      <td>-0.006544</td>\n",
       "      <td>-0.102528</td>\n",
       "      <td>0.098213</td>\n",
       "      <td>-0.030813</td>\n",
       "      <td>-0.179788</td>\n",
       "      <td>-0.133874</td>\n",
       "      <td>1.000000</td>\n",
       "      <td>0.077071</td>\n",
       "    </tr>\n",
       "    <tr>\n",
       "      <th>Outlet_age</th>\n",
       "      <td>0.008551</td>\n",
       "      <td>-0.001220</td>\n",
       "      <td>-0.003151</td>\n",
       "      <td>-0.004970</td>\n",
       "      <td>-0.005020</td>\n",
       "      <td>-0.079035</td>\n",
       "      <td>-0.425534</td>\n",
       "      <td>0.089216</td>\n",
       "      <td>0.122304</td>\n",
       "      <td>0.049135</td>\n",
       "      <td>0.077071</td>\n",
       "      <td>1.000000</td>\n",
       "    </tr>\n",
       "  </tbody>\n",
       "</table>\n",
       "</div>"
      ],
      "text/plain": [
       "                             Item_Identifier  Item_Weight  Item_Fat_Content  \\\n",
       "Item_Identifier                     1.000000     0.056939         -0.166111   \n",
       "Item_Weight                         0.056939     1.000000         -0.015030   \n",
       "Item_Fat_Content                   -0.166111    -0.015030          1.000000   \n",
       "Item_Type                           0.007456     0.028262         -0.139434   \n",
       "Item_MRP                            0.032517     0.024839          0.006063   \n",
       "Outlet_Identifier                  -0.009730    -0.006937          0.000764   \n",
       "Outlet_Size                        -0.001276    -0.014556         -0.001262   \n",
       "Outlet_Location_Type                0.007661     0.005960         -0.001598   \n",
       "Outlet_Type                         0.001136    -0.000858          0.002199   \n",
       "Item_Outlet_Sales                   0.011236     0.014536          0.018719   \n",
       "Item_Visibility_interpolate        -0.046347    -0.012096          0.048694   \n",
       "Outlet_age                          0.008551    -0.001220         -0.003151   \n",
       "\n",
       "                             Item_Type  Item_MRP  Outlet_Identifier  \\\n",
       "Item_Identifier               0.007456  0.032517          -0.009730   \n",
       "Item_Weight                   0.028262  0.024839          -0.006937   \n",
       "Item_Fat_Content             -0.139434  0.006063           0.000764   \n",
       "Item_Type                     1.000000  0.032651           0.001656   \n",
       "Item_MRP                      0.032651  1.000000           0.003319   \n",
       "Outlet_Identifier             0.001656  0.003319           1.000000   \n",
       "Outlet_Size                  -0.000218  0.000872           0.260272   \n",
       "Outlet_Location_Type          0.003084  0.000232          -0.716176   \n",
       "Outlet_Type                   0.003053 -0.001975           0.099873   \n",
       "Item_Outlet_Sales             0.017048  0.567574           0.162325   \n",
       "Item_Visibility_interpolate  -0.033981 -0.006544          -0.102528   \n",
       "Outlet_age                   -0.004970 -0.005020          -0.079035   \n",
       "\n",
       "                             Outlet_Size  Outlet_Location_Type  Outlet_Type  \\\n",
       "Item_Identifier                -0.001276              0.007661     0.001136   \n",
       "Item_Weight                    -0.014556              0.005960    -0.000858   \n",
       "Item_Fat_Content               -0.001262             -0.001598     0.002199   \n",
       "Item_Type                      -0.000218              0.003084     0.003053   \n",
       "Item_MRP                        0.000872              0.000232    -0.001975   \n",
       "Outlet_Identifier               0.260272             -0.716176     0.099873   \n",
       "Outlet_Size                     1.000000             -0.480075    -0.401373   \n",
       "Outlet_Location_Type           -0.480075              1.000000     0.467219   \n",
       "Outlet_Type                    -0.401373              0.467219     1.000000   \n",
       "Item_Outlet_Sales              -0.162753              0.089367     0.401522   \n",
       "Item_Visibility_interpolate     0.098213             -0.030813    -0.179788   \n",
       "Outlet_age                     -0.425534              0.089216     0.122304   \n",
       "\n",
       "                             Item_Outlet_Sales  Item_Visibility_interpolate  \\\n",
       "Item_Identifier                       0.011236                    -0.046347   \n",
       "Item_Weight                           0.014536                    -0.012096   \n",
       "Item_Fat_Content                      0.018719                     0.048694   \n",
       "Item_Type                             0.017048                    -0.033981   \n",
       "Item_MRP                              0.567574                    -0.006544   \n",
       "Outlet_Identifier                     0.162325                    -0.102528   \n",
       "Outlet_Size                          -0.162753                     0.098213   \n",
       "Outlet_Location_Type                  0.089367                    -0.030813   \n",
       "Outlet_Type                           0.401522                    -0.179788   \n",
       "Item_Outlet_Sales                     1.000000                    -0.133874   \n",
       "Item_Visibility_interpolate          -0.133874                     1.000000   \n",
       "Outlet_age                            0.049135                     0.077071   \n",
       "\n",
       "                             Outlet_age  \n",
       "Item_Identifier                0.008551  \n",
       "Item_Weight                   -0.001220  \n",
       "Item_Fat_Content              -0.003151  \n",
       "Item_Type                     -0.004970  \n",
       "Item_MRP                      -0.005020  \n",
       "Outlet_Identifier             -0.079035  \n",
       "Outlet_Size                   -0.425534  \n",
       "Outlet_Location_Type           0.089216  \n",
       "Outlet_Type                    0.122304  \n",
       "Item_Outlet_Sales              0.049135  \n",
       "Item_Visibility_interpolate    0.077071  \n",
       "Outlet_age                     1.000000  "
      ]
     },
     "execution_count": 50,
     "metadata": {},
     "output_type": "execute_result"
    }
   ],
   "source": [
    "bigmart_df.corr()"
   ]
  },
  {
   "cell_type": "markdown",
   "id": "33b886ea",
   "metadata": {
    "papermill": {
     "duration": 0.039726,
     "end_time": "2024-03-12T11:19:20.858352",
     "exception": false,
     "start_time": "2024-03-12T11:19:20.818626",
     "status": "completed"
    },
    "tags": []
   },
   "source": [
    "from the chart below there is a good correlation between item_outlet_sale with item_MRP and outlet_Type.\n",
    "so we can deduce that:\n",
    "1, An increase in Item_MRP will result to higher price(Item_Outlet_Sale)\n",
    "2,Higher outlet_type will also result to increase in the Item_outlet_sale \n"
   ]
  },
  {
   "cell_type": "code",
   "execution_count": 51,
   "id": "73b16b07",
   "metadata": {
    "papermill": {
     "duration": 0.056828,
     "end_time": "2024-03-12T11:19:20.952289",
     "exception": false,
     "start_time": "2024-03-12T11:19:20.895461",
     "status": "completed"
    },
    "tags": []
   },
   "outputs": [
    {
     "data": {
      "text/html": [
       "<div>\n",
       "<style scoped>\n",
       "    .dataframe tbody tr th:only-of-type {\n",
       "        vertical-align: middle;\n",
       "    }\n",
       "\n",
       "    .dataframe tbody tr th {\n",
       "        vertical-align: top;\n",
       "    }\n",
       "\n",
       "    .dataframe thead th {\n",
       "        text-align: right;\n",
       "    }\n",
       "</style>\n",
       "<table border=\"1\" class=\"dataframe\">\n",
       "  <thead>\n",
       "    <tr style=\"text-align: right;\">\n",
       "      <th></th>\n",
       "      <th>Item_Identifier</th>\n",
       "      <th>Item_Weight</th>\n",
       "      <th>Item_Fat_Content</th>\n",
       "      <th>Item_Type</th>\n",
       "      <th>Item_MRP</th>\n",
       "      <th>Outlet_Identifier</th>\n",
       "      <th>Outlet_Size</th>\n",
       "      <th>Outlet_Location_Type</th>\n",
       "      <th>Outlet_Type</th>\n",
       "      <th>Item_Outlet_Sales</th>\n",
       "      <th>Item_Visibility_interpolate</th>\n",
       "      <th>Outlet_age</th>\n",
       "    </tr>\n",
       "  </thead>\n",
       "  <tbody>\n",
       "    <tr>\n",
       "      <th>0</th>\n",
       "      <td>1</td>\n",
       "      <td>9.30</td>\n",
       "      <td>0</td>\n",
       "      <td>4</td>\n",
       "      <td>249.8092</td>\n",
       "      <td>9</td>\n",
       "      <td>1</td>\n",
       "      <td>0</td>\n",
       "      <td>1</td>\n",
       "      <td>3735.1380</td>\n",
       "      <td>0.016047</td>\n",
       "      <td>25</td>\n",
       "    </tr>\n",
       "    <tr>\n",
       "      <th>1</th>\n",
       "      <td>0</td>\n",
       "      <td>5.92</td>\n",
       "      <td>1</td>\n",
       "      <td>14</td>\n",
       "      <td>48.2692</td>\n",
       "      <td>3</td>\n",
       "      <td>1</td>\n",
       "      <td>2</td>\n",
       "      <td>2</td>\n",
       "      <td>443.4228</td>\n",
       "      <td>0.019278</td>\n",
       "      <td>15</td>\n",
       "    </tr>\n",
       "    <tr>\n",
       "      <th>2</th>\n",
       "      <td>1</td>\n",
       "      <td>17.50</td>\n",
       "      <td>0</td>\n",
       "      <td>10</td>\n",
       "      <td>141.6180</td>\n",
       "      <td>9</td>\n",
       "      <td>1</td>\n",
       "      <td>0</td>\n",
       "      <td>1</td>\n",
       "      <td>2097.2700</td>\n",
       "      <td>0.016760</td>\n",
       "      <td>25</td>\n",
       "    </tr>\n",
       "    <tr>\n",
       "      <th>3</th>\n",
       "      <td>1</td>\n",
       "      <td>19.20</td>\n",
       "      <td>1</td>\n",
       "      <td>6</td>\n",
       "      <td>182.0950</td>\n",
       "      <td>0</td>\n",
       "      <td>2</td>\n",
       "      <td>2</td>\n",
       "      <td>0</td>\n",
       "      <td>732.3800</td>\n",
       "      <td>0.015755</td>\n",
       "      <td>26</td>\n",
       "    </tr>\n",
       "    <tr>\n",
       "      <th>4</th>\n",
       "      <td>2</td>\n",
       "      <td>8.93</td>\n",
       "      <td>0</td>\n",
       "      <td>9</td>\n",
       "      <td>53.8614</td>\n",
       "      <td>1</td>\n",
       "      <td>0</td>\n",
       "      <td>2</td>\n",
       "      <td>1</td>\n",
       "      <td>994.7052</td>\n",
       "      <td>0.014751</td>\n",
       "      <td>37</td>\n",
       "    </tr>\n",
       "  </tbody>\n",
       "</table>\n",
       "</div>"
      ],
      "text/plain": [
       "   Item_Identifier  Item_Weight  Item_Fat_Content  Item_Type  Item_MRP  \\\n",
       "0                1         9.30                 0          4  249.8092   \n",
       "1                0         5.92                 1         14   48.2692   \n",
       "2                1        17.50                 0         10  141.6180   \n",
       "3                1        19.20                 1          6  182.0950   \n",
       "4                2         8.93                 0          9   53.8614   \n",
       "\n",
       "   Outlet_Identifier  Outlet_Size  Outlet_Location_Type  Outlet_Type  \\\n",
       "0                  9            1                     0            1   \n",
       "1                  3            1                     2            2   \n",
       "2                  9            1                     0            1   \n",
       "3                  0            2                     2            0   \n",
       "4                  1            0                     2            1   \n",
       "\n",
       "   Item_Outlet_Sales  Item_Visibility_interpolate  Outlet_age  \n",
       "0          3735.1380                     0.016047          25  \n",
       "1           443.4228                     0.019278          15  \n",
       "2          2097.2700                     0.016760          25  \n",
       "3           732.3800                     0.015755          26  \n",
       "4           994.7052                     0.014751          37  "
      ]
     },
     "execution_count": 51,
     "metadata": {},
     "output_type": "execute_result"
    }
   ],
   "source": [
    "bigmart_df.head()"
   ]
  },
  {
   "cell_type": "markdown",
   "id": "44e17ab4",
   "metadata": {
    "papermill": {
     "duration": 0.035737,
     "end_time": "2024-03-12T11:19:21.023267",
     "exception": false,
     "start_time": "2024-03-12T11:19:20.987530",
     "status": "completed"
    },
    "tags": []
   },
   "source": [
    "Spltting the Features and target"
   ]
  },
  {
   "cell_type": "code",
   "execution_count": 52,
   "id": "6b9cc9e2",
   "metadata": {
    "papermill": {
     "duration": 0.049606,
     "end_time": "2024-03-12T11:19:21.108621",
     "exception": false,
     "start_time": "2024-03-12T11:19:21.059015",
     "status": "completed"
    },
    "tags": []
   },
   "outputs": [],
   "source": [
    "X = bigmart_df.drop(columns = \"Item_Outlet_Sales\", axis = 1)\n",
    "y = bigmart_df[\"Item_Outlet_Sales\"]"
   ]
  },
  {
   "cell_type": "markdown",
   "id": "729737a6",
   "metadata": {
    "papermill": {
     "duration": 0.035612,
     "end_time": "2024-03-12T11:19:21.179243",
     "exception": false,
     "start_time": "2024-03-12T11:19:21.143631",
     "status": "completed"
    },
    "tags": []
   },
   "source": [
    "Splitting the data into training data and testing data"
   ]
  },
  {
   "cell_type": "code",
   "execution_count": 53,
   "id": "b9610d21",
   "metadata": {
    "papermill": {
     "duration": 0.052354,
     "end_time": "2024-03-12T11:19:21.270925",
     "exception": false,
     "start_time": "2024-03-12T11:19:21.218571",
     "status": "completed"
    },
    "tags": []
   },
   "outputs": [],
   "source": [
    "X_train, X_test, y_train, y_test = train_test_split(X,y, test_size =0.2, random_state =2)"
   ]
  },
  {
   "cell_type": "markdown",
   "id": "b24d8143",
   "metadata": {
    "papermill": {
     "duration": 0.036654,
     "end_time": "2024-03-12T11:19:21.345570",
     "exception": false,
     "start_time": "2024-03-12T11:19:21.308916",
     "status": "completed"
    },
    "tags": []
   },
   "source": [
    "Machine learning Model Training"
   ]
  },
  {
   "cell_type": "code",
   "execution_count": 54,
   "id": "7e5c687d",
   "metadata": {
    "papermill": {
     "duration": 0.350697,
     "end_time": "2024-03-12T11:19:21.730740",
     "exception": false,
     "start_time": "2024-03-12T11:19:21.380043",
     "status": "completed"
    },
    "tags": []
   },
   "outputs": [
    {
     "data": {
      "text/html": [
       "<style>#sk-container-id-1 {\n",
       "  /* Definition of color scheme common for light and dark mode */\n",
       "  --sklearn-color-text: black;\n",
       "  --sklearn-color-line: gray;\n",
       "  /* Definition of color scheme for unfitted estimators */\n",
       "  --sklearn-color-unfitted-level-0: #fff5e6;\n",
       "  --sklearn-color-unfitted-level-1: #f6e4d2;\n",
       "  --sklearn-color-unfitted-level-2: #ffe0b3;\n",
       "  --sklearn-color-unfitted-level-3: chocolate;\n",
       "  /* Definition of color scheme for fitted estimators */\n",
       "  --sklearn-color-fitted-level-0: #f0f8ff;\n",
       "  --sklearn-color-fitted-level-1: #d4ebff;\n",
       "  --sklearn-color-fitted-level-2: #b3dbfd;\n",
       "  --sklearn-color-fitted-level-3: cornflowerblue;\n",
       "\n",
       "  /* Specific color for light theme */\n",
       "  --sklearn-color-text-on-default-background: var(--sg-text-color, var(--theme-code-foreground, var(--jp-content-font-color1, black)));\n",
       "  --sklearn-color-background: var(--sg-background-color, var(--theme-background, var(--jp-layout-color0, white)));\n",
       "  --sklearn-color-border-box: var(--sg-text-color, var(--theme-code-foreground, var(--jp-content-font-color1, black)));\n",
       "  --sklearn-color-icon: #696969;\n",
       "\n",
       "  @media (prefers-color-scheme: dark) {\n",
       "    /* Redefinition of color scheme for dark theme */\n",
       "    --sklearn-color-text-on-default-background: var(--sg-text-color, var(--theme-code-foreground, var(--jp-content-font-color1, white)));\n",
       "    --sklearn-color-background: var(--sg-background-color, var(--theme-background, var(--jp-layout-color0, #111)));\n",
       "    --sklearn-color-border-box: var(--sg-text-color, var(--theme-code-foreground, var(--jp-content-font-color1, white)));\n",
       "    --sklearn-color-icon: #878787;\n",
       "  }\n",
       "}\n",
       "\n",
       "#sk-container-id-1 {\n",
       "  color: var(--sklearn-color-text);\n",
       "}\n",
       "\n",
       "#sk-container-id-1 pre {\n",
       "  padding: 0;\n",
       "}\n",
       "\n",
       "#sk-container-id-1 input.sk-hidden--visually {\n",
       "  border: 0;\n",
       "  clip: rect(1px 1px 1px 1px);\n",
       "  clip: rect(1px, 1px, 1px, 1px);\n",
       "  height: 1px;\n",
       "  margin: -1px;\n",
       "  overflow: hidden;\n",
       "  padding: 0;\n",
       "  position: absolute;\n",
       "  width: 1px;\n",
       "}\n",
       "\n",
       "#sk-container-id-1 div.sk-dashed-wrapped {\n",
       "  border: 1px dashed var(--sklearn-color-line);\n",
       "  margin: 0 0.4em 0.5em 0.4em;\n",
       "  box-sizing: border-box;\n",
       "  padding-bottom: 0.4em;\n",
       "  background-color: var(--sklearn-color-background);\n",
       "}\n",
       "\n",
       "#sk-container-id-1 div.sk-container {\n",
       "  /* jupyter's `normalize.less` sets `[hidden] { display: none; }`\n",
       "     but bootstrap.min.css set `[hidden] { display: none !important; }`\n",
       "     so we also need the `!important` here to be able to override the\n",
       "     default hidden behavior on the sphinx rendered scikit-learn.org.\n",
       "     See: https://github.com/scikit-learn/scikit-learn/issues/21755 */\n",
       "  display: inline-block !important;\n",
       "  position: relative;\n",
       "}\n",
       "\n",
       "#sk-container-id-1 div.sk-text-repr-fallback {\n",
       "  display: none;\n",
       "}\n",
       "\n",
       "div.sk-parallel-item,\n",
       "div.sk-serial,\n",
       "div.sk-item {\n",
       "  /* draw centered vertical line to link estimators */\n",
       "  background-image: linear-gradient(var(--sklearn-color-text-on-default-background), var(--sklearn-color-text-on-default-background));\n",
       "  background-size: 2px 100%;\n",
       "  background-repeat: no-repeat;\n",
       "  background-position: center center;\n",
       "}\n",
       "\n",
       "/* Parallel-specific style estimator block */\n",
       "\n",
       "#sk-container-id-1 div.sk-parallel-item::after {\n",
       "  content: \"\";\n",
       "  width: 100%;\n",
       "  border-bottom: 2px solid var(--sklearn-color-text-on-default-background);\n",
       "  flex-grow: 1;\n",
       "}\n",
       "\n",
       "#sk-container-id-1 div.sk-parallel {\n",
       "  display: flex;\n",
       "  align-items: stretch;\n",
       "  justify-content: center;\n",
       "  background-color: var(--sklearn-color-background);\n",
       "  position: relative;\n",
       "}\n",
       "\n",
       "#sk-container-id-1 div.sk-parallel-item {\n",
       "  display: flex;\n",
       "  flex-direction: column;\n",
       "}\n",
       "\n",
       "#sk-container-id-1 div.sk-parallel-item:first-child::after {\n",
       "  align-self: flex-end;\n",
       "  width: 50%;\n",
       "}\n",
       "\n",
       "#sk-container-id-1 div.sk-parallel-item:last-child::after {\n",
       "  align-self: flex-start;\n",
       "  width: 50%;\n",
       "}\n",
       "\n",
       "#sk-container-id-1 div.sk-parallel-item:only-child::after {\n",
       "  width: 0;\n",
       "}\n",
       "\n",
       "/* Serial-specific style estimator block */\n",
       "\n",
       "#sk-container-id-1 div.sk-serial {\n",
       "  display: flex;\n",
       "  flex-direction: column;\n",
       "  align-items: center;\n",
       "  background-color: var(--sklearn-color-background);\n",
       "  padding-right: 1em;\n",
       "  padding-left: 1em;\n",
       "}\n",
       "\n",
       "\n",
       "/* Toggleable style: style used for estimator/Pipeline/ColumnTransformer box that is\n",
       "clickable and can be expanded/collapsed.\n",
       "- Pipeline and ColumnTransformer use this feature and define the default style\n",
       "- Estimators will overwrite some part of the style using the `sk-estimator` class\n",
       "*/\n",
       "\n",
       "/* Pipeline and ColumnTransformer style (default) */\n",
       "\n",
       "#sk-container-id-1 div.sk-toggleable {\n",
       "  /* Default theme specific background. It is overwritten whether we have a\n",
       "  specific estimator or a Pipeline/ColumnTransformer */\n",
       "  background-color: var(--sklearn-color-background);\n",
       "}\n",
       "\n",
       "/* Toggleable label */\n",
       "#sk-container-id-1 label.sk-toggleable__label {\n",
       "  cursor: pointer;\n",
       "  display: block;\n",
       "  width: 100%;\n",
       "  margin-bottom: 0;\n",
       "  padding: 0.5em;\n",
       "  box-sizing: border-box;\n",
       "  text-align: center;\n",
       "}\n",
       "\n",
       "#sk-container-id-1 label.sk-toggleable__label-arrow:before {\n",
       "  /* Arrow on the left of the label */\n",
       "  content: \"▸\";\n",
       "  float: left;\n",
       "  margin-right: 0.25em;\n",
       "  color: var(--sklearn-color-icon);\n",
       "}\n",
       "\n",
       "#sk-container-id-1 label.sk-toggleable__label-arrow:hover:before {\n",
       "  color: var(--sklearn-color-text);\n",
       "}\n",
       "\n",
       "/* Toggleable content - dropdown */\n",
       "\n",
       "#sk-container-id-1 div.sk-toggleable__content {\n",
       "  max-height: 0;\n",
       "  max-width: 0;\n",
       "  overflow: hidden;\n",
       "  text-align: left;\n",
       "  /* unfitted */\n",
       "  background-color: var(--sklearn-color-unfitted-level-0);\n",
       "}\n",
       "\n",
       "#sk-container-id-1 div.sk-toggleable__content.fitted {\n",
       "  /* fitted */\n",
       "  background-color: var(--sklearn-color-fitted-level-0);\n",
       "}\n",
       "\n",
       "#sk-container-id-1 div.sk-toggleable__content pre {\n",
       "  margin: 0.2em;\n",
       "  border-radius: 0.25em;\n",
       "  color: var(--sklearn-color-text);\n",
       "  /* unfitted */\n",
       "  background-color: var(--sklearn-color-unfitted-level-0);\n",
       "}\n",
       "\n",
       "#sk-container-id-1 div.sk-toggleable__content.fitted pre {\n",
       "  /* unfitted */\n",
       "  background-color: var(--sklearn-color-fitted-level-0);\n",
       "}\n",
       "\n",
       "#sk-container-id-1 input.sk-toggleable__control:checked~div.sk-toggleable__content {\n",
       "  /* Expand drop-down */\n",
       "  max-height: 200px;\n",
       "  max-width: 100%;\n",
       "  overflow: auto;\n",
       "}\n",
       "\n",
       "#sk-container-id-1 input.sk-toggleable__control:checked~label.sk-toggleable__label-arrow:before {\n",
       "  content: \"▾\";\n",
       "}\n",
       "\n",
       "/* Pipeline/ColumnTransformer-specific style */\n",
       "\n",
       "#sk-container-id-1 div.sk-label input.sk-toggleable__control:checked~label.sk-toggleable__label {\n",
       "  color: var(--sklearn-color-text);\n",
       "  background-color: var(--sklearn-color-unfitted-level-2);\n",
       "}\n",
       "\n",
       "#sk-container-id-1 div.sk-label.fitted input.sk-toggleable__control:checked~label.sk-toggleable__label {\n",
       "  background-color: var(--sklearn-color-fitted-level-2);\n",
       "}\n",
       "\n",
       "/* Estimator-specific style */\n",
       "\n",
       "/* Colorize estimator box */\n",
       "#sk-container-id-1 div.sk-estimator input.sk-toggleable__control:checked~label.sk-toggleable__label {\n",
       "  /* unfitted */\n",
       "  background-color: var(--sklearn-color-unfitted-level-2);\n",
       "}\n",
       "\n",
       "#sk-container-id-1 div.sk-estimator.fitted input.sk-toggleable__control:checked~label.sk-toggleable__label {\n",
       "  /* fitted */\n",
       "  background-color: var(--sklearn-color-fitted-level-2);\n",
       "}\n",
       "\n",
       "#sk-container-id-1 div.sk-label label.sk-toggleable__label,\n",
       "#sk-container-id-1 div.sk-label label {\n",
       "  /* The background is the default theme color */\n",
       "  color: var(--sklearn-color-text-on-default-background);\n",
       "}\n",
       "\n",
       "/* On hover, darken the color of the background */\n",
       "#sk-container-id-1 div.sk-label:hover label.sk-toggleable__label {\n",
       "  color: var(--sklearn-color-text);\n",
       "  background-color: var(--sklearn-color-unfitted-level-2);\n",
       "}\n",
       "\n",
       "/* Label box, darken color on hover, fitted */\n",
       "#sk-container-id-1 div.sk-label.fitted:hover label.sk-toggleable__label.fitted {\n",
       "  color: var(--sklearn-color-text);\n",
       "  background-color: var(--sklearn-color-fitted-level-2);\n",
       "}\n",
       "\n",
       "/* Estimator label */\n",
       "\n",
       "#sk-container-id-1 div.sk-label label {\n",
       "  font-family: monospace;\n",
       "  font-weight: bold;\n",
       "  display: inline-block;\n",
       "  line-height: 1.2em;\n",
       "}\n",
       "\n",
       "#sk-container-id-1 div.sk-label-container {\n",
       "  text-align: center;\n",
       "}\n",
       "\n",
       "/* Estimator-specific */\n",
       "#sk-container-id-1 div.sk-estimator {\n",
       "  font-family: monospace;\n",
       "  border: 1px dotted var(--sklearn-color-border-box);\n",
       "  border-radius: 0.25em;\n",
       "  box-sizing: border-box;\n",
       "  margin-bottom: 0.5em;\n",
       "  /* unfitted */\n",
       "  background-color: var(--sklearn-color-unfitted-level-0);\n",
       "}\n",
       "\n",
       "#sk-container-id-1 div.sk-estimator.fitted {\n",
       "  /* fitted */\n",
       "  background-color: var(--sklearn-color-fitted-level-0);\n",
       "}\n",
       "\n",
       "/* on hover */\n",
       "#sk-container-id-1 div.sk-estimator:hover {\n",
       "  /* unfitted */\n",
       "  background-color: var(--sklearn-color-unfitted-level-2);\n",
       "}\n",
       "\n",
       "#sk-container-id-1 div.sk-estimator.fitted:hover {\n",
       "  /* fitted */\n",
       "  background-color: var(--sklearn-color-fitted-level-2);\n",
       "}\n",
       "\n",
       "/* Specification for estimator info (e.g. \"i\" and \"?\") */\n",
       "\n",
       "/* Common style for \"i\" and \"?\" */\n",
       "\n",
       ".sk-estimator-doc-link,\n",
       "a:link.sk-estimator-doc-link,\n",
       "a:visited.sk-estimator-doc-link {\n",
       "  float: right;\n",
       "  font-size: smaller;\n",
       "  line-height: 1em;\n",
       "  font-family: monospace;\n",
       "  background-color: var(--sklearn-color-background);\n",
       "  border-radius: 1em;\n",
       "  height: 1em;\n",
       "  width: 1em;\n",
       "  text-decoration: none !important;\n",
       "  margin-left: 1ex;\n",
       "  /* unfitted */\n",
       "  border: var(--sklearn-color-unfitted-level-1) 1pt solid;\n",
       "  color: var(--sklearn-color-unfitted-level-1);\n",
       "}\n",
       "\n",
       ".sk-estimator-doc-link.fitted,\n",
       "a:link.sk-estimator-doc-link.fitted,\n",
       "a:visited.sk-estimator-doc-link.fitted {\n",
       "  /* fitted */\n",
       "  border: var(--sklearn-color-fitted-level-1) 1pt solid;\n",
       "  color: var(--sklearn-color-fitted-level-1);\n",
       "}\n",
       "\n",
       "/* On hover */\n",
       "div.sk-estimator:hover .sk-estimator-doc-link:hover,\n",
       ".sk-estimator-doc-link:hover,\n",
       "div.sk-label-container:hover .sk-estimator-doc-link:hover,\n",
       ".sk-estimator-doc-link:hover {\n",
       "  /* unfitted */\n",
       "  background-color: var(--sklearn-color-unfitted-level-3);\n",
       "  color: var(--sklearn-color-background);\n",
       "  text-decoration: none;\n",
       "}\n",
       "\n",
       "div.sk-estimator.fitted:hover .sk-estimator-doc-link.fitted:hover,\n",
       ".sk-estimator-doc-link.fitted:hover,\n",
       "div.sk-label-container:hover .sk-estimator-doc-link.fitted:hover,\n",
       ".sk-estimator-doc-link.fitted:hover {\n",
       "  /* fitted */\n",
       "  background-color: var(--sklearn-color-fitted-level-3);\n",
       "  color: var(--sklearn-color-background);\n",
       "  text-decoration: none;\n",
       "}\n",
       "\n",
       "/* Span, style for the box shown on hovering the info icon */\n",
       ".sk-estimator-doc-link span {\n",
       "  display: none;\n",
       "  z-index: 9999;\n",
       "  position: relative;\n",
       "  font-weight: normal;\n",
       "  right: .2ex;\n",
       "  padding: .5ex;\n",
       "  margin: .5ex;\n",
       "  width: min-content;\n",
       "  min-width: 20ex;\n",
       "  max-width: 50ex;\n",
       "  color: var(--sklearn-color-text);\n",
       "  box-shadow: 2pt 2pt 4pt #999;\n",
       "  /* unfitted */\n",
       "  background: var(--sklearn-color-unfitted-level-0);\n",
       "  border: .5pt solid var(--sklearn-color-unfitted-level-3);\n",
       "}\n",
       "\n",
       ".sk-estimator-doc-link.fitted span {\n",
       "  /* fitted */\n",
       "  background: var(--sklearn-color-fitted-level-0);\n",
       "  border: var(--sklearn-color-fitted-level-3);\n",
       "}\n",
       "\n",
       ".sk-estimator-doc-link:hover span {\n",
       "  display: block;\n",
       "}\n",
       "\n",
       "/* \"?\"-specific style due to the `<a>` HTML tag */\n",
       "\n",
       "#sk-container-id-1 a.estimator_doc_link {\n",
       "  float: right;\n",
       "  font-size: 1rem;\n",
       "  line-height: 1em;\n",
       "  font-family: monospace;\n",
       "  background-color: var(--sklearn-color-background);\n",
       "  border-radius: 1rem;\n",
       "  height: 1rem;\n",
       "  width: 1rem;\n",
       "  text-decoration: none;\n",
       "  /* unfitted */\n",
       "  color: var(--sklearn-color-unfitted-level-1);\n",
       "  border: var(--sklearn-color-unfitted-level-1) 1pt solid;\n",
       "}\n",
       "\n",
       "#sk-container-id-1 a.estimator_doc_link.fitted {\n",
       "  /* fitted */\n",
       "  border: var(--sklearn-color-fitted-level-1) 1pt solid;\n",
       "  color: var(--sklearn-color-fitted-level-1);\n",
       "}\n",
       "\n",
       "/* On hover */\n",
       "#sk-container-id-1 a.estimator_doc_link:hover {\n",
       "  /* unfitted */\n",
       "  background-color: var(--sklearn-color-unfitted-level-3);\n",
       "  color: var(--sklearn-color-background);\n",
       "  text-decoration: none;\n",
       "}\n",
       "\n",
       "#sk-container-id-1 a.estimator_doc_link.fitted:hover {\n",
       "  /* fitted */\n",
       "  background-color: var(--sklearn-color-fitted-level-3);\n",
       "}\n",
       "</style><div id=\"sk-container-id-1\" class=\"sk-top-container\"><div class=\"sk-text-repr-fallback\"><pre>XGBRegressor(base_score=None, booster=None, callbacks=None,\n",
       "             colsample_bylevel=None, colsample_bynode=None,\n",
       "             colsample_bytree=None, device=None, early_stopping_rounds=None,\n",
       "             enable_categorical=False, eval_metric=None, feature_types=None,\n",
       "             gamma=None, grow_policy=None, importance_type=None,\n",
       "             interaction_constraints=None, learning_rate=None, max_bin=None,\n",
       "             max_cat_threshold=None, max_cat_to_onehot=None,\n",
       "             max_delta_step=None, max_depth=None, max_leaves=None,\n",
       "             min_child_weight=None, missing=nan, monotone_constraints=None,\n",
       "             multi_strategy=None, n_estimators=None, n_jobs=None,\n",
       "             num_parallel_tree=None, random_state=None, ...)</pre><b>In a Jupyter environment, please rerun this cell to show the HTML representation or trust the notebook. <br />On GitHub, the HTML representation is unable to render, please try loading this page with nbviewer.org.</b></div><div class=\"sk-container\" hidden><div class=\"sk-item\"><div class=\"sk-estimator fitted sk-toggleable\"><input class=\"sk-toggleable__control sk-hidden--visually\" id=\"sk-estimator-id-1\" type=\"checkbox\" checked><label for=\"sk-estimator-id-1\" class=\"sk-toggleable__label fitted sk-toggleable__label-arrow fitted\">&nbsp;XGBRegressor<span class=\"sk-estimator-doc-link fitted\">i<span>Fitted</span></span></label><div class=\"sk-toggleable__content fitted\"><pre>XGBRegressor(base_score=None, booster=None, callbacks=None,\n",
       "             colsample_bylevel=None, colsample_bynode=None,\n",
       "             colsample_bytree=None, device=None, early_stopping_rounds=None,\n",
       "             enable_categorical=False, eval_metric=None, feature_types=None,\n",
       "             gamma=None, grow_policy=None, importance_type=None,\n",
       "             interaction_constraints=None, learning_rate=None, max_bin=None,\n",
       "             max_cat_threshold=None, max_cat_to_onehot=None,\n",
       "             max_delta_step=None, max_depth=None, max_leaves=None,\n",
       "             min_child_weight=None, missing=nan, monotone_constraints=None,\n",
       "             multi_strategy=None, n_estimators=None, n_jobs=None,\n",
       "             num_parallel_tree=None, random_state=None, ...)</pre></div> </div></div></div></div>"
      ],
      "text/plain": [
       "XGBRegressor(base_score=None, booster=None, callbacks=None,\n",
       "             colsample_bylevel=None, colsample_bynode=None,\n",
       "             colsample_bytree=None, device=None, early_stopping_rounds=None,\n",
       "             enable_categorical=False, eval_metric=None, feature_types=None,\n",
       "             gamma=None, grow_policy=None, importance_type=None,\n",
       "             interaction_constraints=None, learning_rate=None, max_bin=None,\n",
       "             max_cat_threshold=None, max_cat_to_onehot=None,\n",
       "             max_delta_step=None, max_depth=None, max_leaves=None,\n",
       "             min_child_weight=None, missing=nan, monotone_constraints=None,\n",
       "             multi_strategy=None, n_estimators=None, n_jobs=None,\n",
       "             num_parallel_tree=None, random_state=None, ...)"
      ]
     },
     "execution_count": 54,
     "metadata": {},
     "output_type": "execute_result"
    }
   ],
   "source": [
    "xg = XGBRegressor()\n",
    "xg.fit(X_train, y_train)"
   ]
  },
  {
   "cell_type": "code",
   "execution_count": 55,
   "id": "16e2b852",
   "metadata": {
    "papermill": {
     "duration": 0.075795,
     "end_time": "2024-03-12T11:19:21.844038",
     "exception": false,
     "start_time": "2024-03-12T11:19:21.768243",
     "status": "completed"
    },
    "tags": []
   },
   "outputs": [],
   "source": [
    "#Prediction on training data\n",
    "training_data_prediction = xg.predict(X_train)"
   ]
  },
  {
   "cell_type": "code",
   "execution_count": 56,
   "id": "b73cc8ce",
   "metadata": {
    "papermill": {
     "duration": 0.050197,
     "end_time": "2024-03-12T11:19:21.932922",
     "exception": false,
     "start_time": "2024-03-12T11:19:21.882725",
     "status": "completed"
    },
    "tags": []
   },
   "outputs": [
    {
     "name": "stdout",
     "output_type": "stream",
     "text": [
      "R-squared value for train data = 0.8743719828705219\n"
     ]
    }
   ],
   "source": [
    "#R-squared value for train_data\n",
    "r2_train = metrics.r2_score(y_train, training_data_prediction)\n",
    "\n",
    "print(\"R-squared value for train data =\", r2_train)"
   ]
  },
  {
   "cell_type": "code",
   "execution_count": 57,
   "id": "826e0983",
   "metadata": {
    "papermill": {
     "duration": 0.055515,
     "end_time": "2024-03-12T11:19:22.022703",
     "exception": false,
     "start_time": "2024-03-12T11:19:21.967188",
     "status": "completed"
    },
    "tags": []
   },
   "outputs": [],
   "source": [
    "#Prediction on testing data\n",
    "testing_data_prediction = xg.predict(X_test)"
   ]
  },
  {
   "cell_type": "code",
   "execution_count": 58,
   "id": "2f5caef4",
   "metadata": {
    "papermill": {
     "duration": 0.052648,
     "end_time": "2024-03-12T11:19:22.114827",
     "exception": false,
     "start_time": "2024-03-12T11:19:22.062179",
     "status": "completed"
    },
    "tags": []
   },
   "outputs": [
    {
     "name": "stdout",
     "output_type": "stream",
     "text": [
      "R-squared value for test_data = 0.5109242182102149\n"
     ]
    }
   ],
   "source": [
    "#R-squared value for test_data\n",
    "r2_test = metrics.r2_score(y_test, testing_data_prediction)\n",
    "\n",
    "print(\"R-squared value for test_data =\", r2_test)"
   ]
  },
  {
   "cell_type": "code",
   "execution_count": 59,
   "id": "881feb5a",
   "metadata": {
    "papermill": {
     "duration": 0.054731,
     "end_time": "2024-03-12T11:19:22.203511",
     "exception": false,
     "start_time": "2024-03-12T11:19:22.148780",
     "status": "completed"
    },
    "tags": []
   },
   "outputs": [
    {
     "data": {
      "text/plain": [
       "436.37837256541997"
      ]
     },
     "execution_count": 59,
     "metadata": {},
     "output_type": "execute_result"
    }
   ],
   "source": [
    "#USING MEAN_ABSOLUTE_ERROR\n",
    "\n",
    "#for training data\n",
    "mean_absolute_error(y_train, training_data_prediction)"
   ]
  },
  {
   "cell_type": "code",
   "execution_count": 60,
   "id": "941dbb76",
   "metadata": {
    "papermill": {
     "duration": 0.060777,
     "end_time": "2024-03-12T11:19:22.304664",
     "exception": false,
     "start_time": "2024-03-12T11:19:22.243887",
     "status": "completed"
    },
    "tags": []
   },
   "outputs": [
    {
     "name": "stdout",
     "output_type": "stream",
     "text": [
      "865.5705518787743\n"
     ]
    }
   ],
   "source": [
    "#for testing data\n",
    "mae= mean_absolute_error(y_test, testing_data_prediction)\n",
    "print(mae)"
   ]
  },
  {
   "cell_type": "markdown",
   "id": "ff93994e",
   "metadata": {
    "papermill": {
     "duration": 0.045913,
     "end_time": "2024-03-12T11:19:22.393894",
     "exception": false,
     "start_time": "2024-03-12T11:19:22.347981",
     "status": "completed"
    },
    "tags": []
   },
   "source": [
    "PREDICTION ON UNSEEN DATA"
   ]
  },
  {
   "cell_type": "code",
   "execution_count": 61,
   "id": "e72cc818",
   "metadata": {
    "papermill": {
     "duration": 0.063644,
     "end_time": "2024-03-12T11:19:22.500554",
     "exception": false,
     "start_time": "2024-03-12T11:19:22.436910",
     "status": "completed"
    },
    "tags": []
   },
   "outputs": [
    {
     "name": "stdout",
     "output_type": "stream",
     "text": [
      "[4184.5493]\n"
     ]
    }
   ],
   "source": [
    "pred = xg.predict(np.array([[1,9.3,0,4,249.8092,9,1,0,1,0.016047301,25]]))\n",
    "\n",
    "print(pred)"
   ]
  },
  {
   "cell_type": "code",
   "execution_count": 62,
   "id": "a1a16129",
   "metadata": {
    "papermill": {
     "duration": 0.051559,
     "end_time": "2024-03-12T11:19:22.590270",
     "exception": false,
     "start_time": "2024-03-12T11:19:22.538711",
     "status": "completed"
    },
    "tags": []
   },
   "outputs": [
    {
     "name": "stdout",
     "output_type": "stream",
     "text": [
      "Sales value is in between [3318.9792] and [5050.119]\n"
     ]
    }
   ],
   "source": [
    "print(f\"Sales value is in between {pred-865.57} and {pred+865.57}\")"
   ]
  },
  {
   "cell_type": "code",
   "execution_count": 71,
   "id": "cb569c1b",
   "metadata": {
    "papermill": {
     "duration": 0.042215,
     "end_time": "2024-03-12T11:19:22.679045",
     "exception": false,
     "start_time": "2024-03-12T11:19:22.636830",
     "status": "completed"
    },
    "tags": []
   },
   "outputs": [],
   "source": [
    "xg.save_model(\"bigmart_sales_model.json\")  # Save model in JSON format"
   ]
  },
  {
   "cell_type": "code",
   "execution_count": null,
   "id": "70b1e4c1-a2a2-40a0-be94-2ef90058bcce",
   "metadata": {},
   "outputs": [],
   "source": []
  },
  {
   "cell_type": "code",
   "execution_count": 69,
   "id": "795d2e45-a099-4c05-a492-85c8cb4c03e8",
   "metadata": {},
   "outputs": [
    {
     "name": "stdout",
     "output_type": "stream",
     "text": [
      "Warning: Item_Identifier contains previously unseen labels.\n",
      "Warning: Item_Fat_Content contains previously unseen labels.\n",
      "Warning: Item_Type contains previously unseen labels.\n",
      "Warning: Outlet_Identifier contains previously unseen labels.\n",
      "Warning: Outlet_Size contains previously unseen labels.\n",
      "Warning: Outlet_Location_Type contains previously unseen labels.\n",
      "Warning: Outlet_Type contains previously unseen labels.\n",
      "Predictions saved successfully!\n"
     ]
    },
    {
     "name": "stderr",
     "output_type": "stream",
     "text": [
      "/tmp/ipykernel_2443/2208885791.py:11: FutureWarning: A value is trying to be set on a copy of a DataFrame or Series through chained assignment using an inplace method.\n",
      "The behavior will change in pandas 3.0. This inplace method will never work because the intermediate object on which we are setting values always behaves as a copy.\n",
      "\n",
      "For example, when doing 'df[col].method(value, inplace=True)', try using 'df.method({col: value}, inplace=True)' or df[col] = df[col].method(value) instead, to perform the operation inplace on the original object.\n",
      "\n",
      "\n",
      "  test_df[\"Item_Weight\"].fillna(test_df[\"Item_Weight\"].interpolate(method=\"linear\"), inplace=True)\n"
     ]
    }
   ],
   "source": [
    "import pandas as pd\n",
    "import numpy as np\n",
    "import datetime as dt\n",
    "import xgboost as xgb\n",
    "from sklearn.preprocessing import LabelEncoder\n",
    "\n",
    "# Load the test dataset\n",
    "test_df = pd.read_csv(\"./test.csv\")\n",
    "\n",
    "# Handling missing values in the same way as the train set\n",
    "test_df[\"Item_Weight\"].fillna(test_df[\"Item_Weight\"].interpolate(method=\"linear\"), inplace=True)\n",
    "\n",
    "# Mode of Outlet_Size based on Outlet_Type\n",
    "mode_of_outlet_size = test_df.pivot_table(values='Outlet_Size', columns='Outlet_Type', aggfunc=(lambda x: x.mode()[0]))\n",
    "missing_value = test_df['Outlet_Size'].isnull()\n",
    "test_df.loc[missing_value, 'Outlet_Size'] = test_df.loc[missing_value, 'Outlet_Type'].apply(lambda x: mode_of_outlet_size[x])\n",
    "\n",
    "# Replace values in Item_Fat_Content\n",
    "test_df.replace({\"Item_Fat_Content\": {\"LF\": \"Low Fat\", \"low fat\": \"Low Fat\", \"reg\": \"Regular\"}}, inplace=True)\n",
    "\n",
    "# Fill missing/0 values in Item_Visibility using interpolation\n",
    "test_df[\"Item_Visibility_interpolate\"] = test_df[\"Item_Visibility\"].replace(0, np.nan).interpolate(method=\"linear\")\n",
    "\n",
    "# Use the first two characters of Item_Identifier for feature engineering\n",
    "test_df[\"Item_Identifier\"] = test_df[\"Item_Identifier\"].apply(lambda x: x[:2])\n",
    "\n",
    "# Calculate Outlet_age\n",
    "current_year = dt.datetime.today().year\n",
    "test_df[\"Outlet_age\"] = current_year - test_df[\"Outlet_Establishment_Year\"]\n",
    "\n",
    "# Drop unnecessary columns\n",
    "test_df.drop([\"Outlet_Establishment_Year\", \"Item_Visibility\"], axis=1, inplace=True)\n",
    "\n",
    "# Label Encoding (ensure to use the same encoder used during training)\n",
    "# Assuming 'coder' is your trained LabelEncoder\n",
    "label_columns = [\"Item_Identifier\", \"Item_Fat_Content\", \"Item_Type\", \"Outlet_Identifier\", \"Outlet_Size\", \"Outlet_Location_Type\", \"Outlet_Type\"]\n",
    "for col in label_columns:\n",
    "    if col in coder.classes_:\n",
    "        test_df[col] = coder.transform(test_df[col])\n",
    "    else:\n",
    "        print(f\"Warning: {col} contains previously unseen labels.\")\n",
    "\n",
    "# Ensure all columns are numeric or categorical\n",
    "for col in test_df.select_dtypes(include='object').columns:\n",
    "    test_df[col] = test_df[col].astype('category')\n",
    "\n",
    "# Now, we are ready to predict\n",
    "X_test_final = test_df  # Since we are predicting, there's no target variable in test.csv\n",
    "\n",
    "# Make predictions using the trained model\n",
    "test_predictions = xg.predict(X_test_final)\n",
    "\n",
    "# Store the predictions in a DataFrame\n",
    "submission = pd.DataFrame({\n",
    "    \"Item_Identifier\": test_df[\"Item_Identifier\"],  # You can include this if needed\n",
    "    \"Outlet_Identifier\": test_df[\"Outlet_Identifier\"],  # Optional\n",
    "    \"Item_Outlet_Sales\": test_predictions  # The predicted sales\n",
    "})\n",
    "\n",
    "# Save the predictions to a CSV file for submission or further analysis\n",
    "submission.to_csv(\"bigmart_sales_predictions.csv\", index=False)\n",
    "\n",
    "print(\"Predictions saved successfully!\")\n"
   ]
  },
  {
   "cell_type": "code",
   "execution_count": 70,
   "id": "bfcb13b9-2230-4695-a0fb-0e8f0f62e0ec",
   "metadata": {},
   "outputs": [
    {
     "name": "stdout",
     "output_type": "stream",
     "text": [
      "Collecting Flask\n",
      "  Downloading flask-3.0.3-py3-none-any.whl.metadata (3.2 kB)\n",
      "Requirement already satisfied: Werkzeug>=3.0.0 in /home/tanish/anaconda3/envs/py310/lib/python3.10/site-packages (from Flask) (3.0.4)\n",
      "Requirement already satisfied: Jinja2>=3.1.2 in /home/tanish/anaconda3/envs/py310/lib/python3.10/site-packages (from Flask) (3.1.4)\n",
      "Collecting itsdangerous>=2.1.2 (from Flask)\n",
      "  Downloading itsdangerous-2.2.0-py3-none-any.whl.metadata (1.9 kB)\n",
      "Collecting click>=8.1.3 (from Flask)\n",
      "  Downloading click-8.1.7-py3-none-any.whl.metadata (3.0 kB)\n",
      "Collecting blinker>=1.6.2 (from Flask)\n",
      "  Downloading blinker-1.8.2-py3-none-any.whl.metadata (1.6 kB)\n",
      "Requirement already satisfied: MarkupSafe>=2.0 in /home/tanish/anaconda3/envs/py310/lib/python3.10/site-packages (from Jinja2>=3.1.2->Flask) (2.1.5)\n",
      "Downloading flask-3.0.3-py3-none-any.whl (101 kB)\n",
      "Downloading blinker-1.8.2-py3-none-any.whl (9.5 kB)\n",
      "Downloading click-8.1.7-py3-none-any.whl (97 kB)\n",
      "Downloading itsdangerous-2.2.0-py3-none-any.whl (16 kB)\n",
      "Installing collected packages: itsdangerous, click, blinker, Flask\n",
      "Successfully installed Flask-3.0.3 blinker-1.8.2 click-8.1.7 itsdangerous-2.2.0\n"
     ]
    }
   ],
   "source": [
    "!pip install Flask"
   ]
  },
  {
   "cell_type": "code",
   "execution_count": null,
   "id": "5d9be16e-27e3-4e3e-b38e-5d3647d95037",
   "metadata": {},
   "outputs": [],
   "source": []
  }
 ],
 "metadata": {
  "kaggle": {
   "accelerator": "none",
   "dataSources": [
    {
     "datasetId": 905262,
     "sourceId": 1535166,
     "sourceType": "datasetVersion"
    }
   ],
   "dockerImageVersionId": 30664,
   "isGpuEnabled": false,
   "isInternetEnabled": true,
   "language": "python",
   "sourceType": "notebook"
  },
  "kernelspec": {
   "display_name": "Python 3 (ipykernel)",
   "language": "python",
   "name": "python3"
  },
  "language_info": {
   "codemirror_mode": {
    "name": "ipython",
    "version": 3
   },
   "file_extension": ".py",
   "mimetype": "text/x-python",
   "name": "python",
   "nbconvert_exporter": "python",
   "pygments_lexer": "ipython3",
   "version": "3.10.14"
  },
  "papermill": {
   "default_parameters": {},
   "duration": 21.898128,
   "end_time": "2024-03-12T11:19:23.626425",
   "environment_variables": {},
   "exception": null,
   "input_path": "__notebook__.ipynb",
   "output_path": "__notebook__.ipynb",
   "parameters": {},
   "start_time": "2024-03-12T11:19:01.728297",
   "version": "2.5.0"
  }
 },
 "nbformat": 4,
 "nbformat_minor": 5
}
