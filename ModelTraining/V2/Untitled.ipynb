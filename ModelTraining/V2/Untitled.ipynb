{
 "cells": [
  {
   "cell_type": "code",
   "execution_count": 1,
   "id": "4aa02cd7",
   "metadata": {},
   "outputs": [
    {
     "name": "stdout",
     "output_type": "stream",
     "text": [
      "Output saved to output.csv\n"
     ]
    }
   ],
   "source": [
    "import pandas as pd\n",
    "import numpy as np\n",
    "\n",
    "# Set the random seed to ensure consistency for the same input CSV\n",
    "np.random.seed(42)\n",
    "\n",
    "# Load the input CSV into a DataFrame\n",
    "input_csv = 'input_2.csv'  # Replace with your input CSV file path\n",
    "df = pd.read_csv(input_csv)\n",
    "\n",
    "# Generate random redemption_status values (99% 0, 1% 1)\n",
    "redemption_status = np.random.choice([0, 1], size=len(df), p=[0.99, 0.01])\n",
    "\n",
    "# Add the redemption_status column to the DataFrame\n",
    "df['redemption_status'] = redemption_status\n",
    "\n",
    "# Save the output to a new CSV file\n",
    "output_csv = 'output.csv'  # Replace with desired output file path\n",
    "df.to_csv(output_csv, index=False)\n",
    "\n",
    "print(f\"Output saved to {output_csv}\")"
   ]
  },
  {
   "cell_type": "code",
   "execution_count": null,
   "id": "93270d9a",
   "metadata": {},
   "outputs": [],
   "source": []
  }
 ],
 "metadata": {
  "kernelspec": {
   "display_name": "Python 3 (ipykernel)",
   "language": "python",
   "name": "python3"
  },
  "language_info": {
   "codemirror_mode": {
    "name": "ipython",
    "version": 3
   },
   "file_extension": ".py",
   "mimetype": "text/x-python",
   "name": "python",
   "nbconvert_exporter": "python",
   "pygments_lexer": "ipython3",
   "version": "3.11.5"
  }
 },
 "nbformat": 4,
 "nbformat_minor": 5
}
